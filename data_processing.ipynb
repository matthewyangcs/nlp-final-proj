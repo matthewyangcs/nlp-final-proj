{
 "cells": [
  {
   "cell_type": "code",
   "execution_count": 1,
   "id": "b3f4c218-4580-4b76-be17-ab81b8f8dd3f",
   "metadata": {},
   "outputs": [],
   "source": [
    "%load_ext autoreload\n",
    "%autoreload 2"
   ]
  },
  {
   "cell_type": "code",
   "execution_count": 2,
   "id": "62fd7814-898a-4051-bbc2-d5c9e5ae3157",
   "metadata": {},
   "outputs": [],
   "source": [
    "import pandas as pd\n",
    "import numpy as np\n",
    "import json\n",
    "import os\n",
    "from collections import Counter\n",
    "import nltk\n",
    "from nltk.tokenize import word_tokenize, sent_tokenize\n",
    "import re\n",
    "import seaborn as sns\n",
    "import matplotlib.pyplot as plt\n",
    "sns.set_style(\"darkgrid\")"
   ]
  },
  {
   "cell_type": "markdown",
   "id": "89992203-ce22-43bd-af8a-ea47d4eeb707",
   "metadata": {},
   "source": [
    "# NOTE: This notebook must be run in chronological order and some cells may NOT be re-run"
   ]
  },
  {
   "cell_type": "markdown",
   "id": "883fd082-acbb-4bb4-87f9-1203ead5762d",
   "metadata": {
    "tags": []
   },
   "source": [
    "# Loading and Dropping Duplicates"
   ]
  },
  {
   "cell_type": "code",
   "execution_count": 3,
   "id": "1cc87828-6a47-414e-b850-007c338a99ff",
   "metadata": {},
   "outputs": [],
   "source": [
    "# Paths\n",
    "RAW_FOLDER = './data/raw/'\n",
    "ANIME_FILE = 'animes.csv'\n",
    "PROFILES_FILE = 'profiles.csv'\n",
    "REVIEWS_FILE = 'reviews.csv'"
   ]
  },
  {
   "cell_type": "code",
   "execution_count": 4,
   "id": "2a186ab5-b65b-4420-8dac-b7bb9f668222",
   "metadata": {},
   "outputs": [],
   "source": [
    "anime = pd.read_csv(os.path.join(RAW_FOLDER, ANIME_FILE))\n",
    "users = pd.read_csv(os.path.join(RAW_FOLDER, PROFILES_FILE))\n",
    "reviews = pd.read_csv(os.path.join(RAW_FOLDER, REVIEWS_FILE))"
   ]
  },
  {
   "cell_type": "code",
   "execution_count": 5,
   "id": "b54b10cd-a5e2-4088-929e-4af3af4aaa59",
   "metadata": {},
   "outputs": [],
   "source": [
    "anime = anime.drop_duplicates(subset=['uid'])\n",
    "users = users.drop_duplicates(subset=['profile'])\n",
    "reviews = reviews.drop_duplicates(subset=['uid'])"
   ]
  },
  {
   "cell_type": "code",
   "execution_count": 6,
   "id": "9886fac8-444f-4808-ac5f-f4ed1a6fb52e",
   "metadata": {},
   "outputs": [
    {
     "name": "stdout",
     "output_type": "stream",
     "text": [
      "# Anime: 16216\n",
      "# Users: 47885\n",
      "# Reviews: 130519\n"
     ]
    }
   ],
   "source": [
    "# Raw Dataset Statistics\n",
    "print(f\"# Anime: {len(anime)}\")\n",
    "print(f\"# Users: {len(users)}\")\n",
    "print(f\"# Reviews: {len(reviews)}\")\n",
    "assert len(users['profile'].unique()) == len(reviews['profile'].unique())"
   ]
  },
  {
   "cell_type": "markdown",
   "id": "ad502e56-81ee-491a-a7b3-8fae7d1b1694",
   "metadata": {},
   "source": [
    "# Processing"
   ]
  },
  {
   "cell_type": "markdown",
   "id": "219c17fb-95f9-4613-9c9d-3ab4fda402a6",
   "metadata": {},
   "source": [
    "## Removing Irrelevant Columns"
   ]
  },
  {
   "cell_type": "code",
   "execution_count": 7,
   "id": "da49be22-d504-40f6-9a00-eae9265a2323",
   "metadata": {},
   "outputs": [],
   "source": [
    "anime = anime[['uid', 'title', 'synopsis', 'genre', 'score']]"
   ]
  },
  {
   "cell_type": "code",
   "execution_count": 8,
   "id": "6b41f646-eda2-4b2e-b771-3c015d4a4535",
   "metadata": {},
   "outputs": [],
   "source": [
    "reviews = reviews[['uid', 'profile', 'anime_uid', 'text', 'score']]"
   ]
  },
  {
   "cell_type": "markdown",
   "id": "dc704181-5152-41d1-a21a-43e385b01d27",
   "metadata": {},
   "source": [
    "## Renaming Columns for Clarity"
   ]
  },
  {
   "cell_type": "code",
   "execution_count": 9,
   "id": "a2f21ffa-5cdb-451f-8eeb-3c27e4d57fb0",
   "metadata": {},
   "outputs": [
    {
     "data": {
      "text/html": [
       "<div>\n",
       "<style scoped>\n",
       "    .dataframe tbody tr th:only-of-type {\n",
       "        vertical-align: middle;\n",
       "    }\n",
       "\n",
       "    .dataframe tbody tr th {\n",
       "        vertical-align: top;\n",
       "    }\n",
       "\n",
       "    .dataframe thead th {\n",
       "        text-align: right;\n",
       "    }\n",
       "</style>\n",
       "<table border=\"1\" class=\"dataframe\">\n",
       "  <thead>\n",
       "    <tr style=\"text-align: right;\">\n",
       "      <th></th>\n",
       "      <th>item_id</th>\n",
       "      <th>title</th>\n",
       "      <th>synopsis</th>\n",
       "      <th>genre</th>\n",
       "      <th>score</th>\n",
       "    </tr>\n",
       "  </thead>\n",
       "  <tbody>\n",
       "    <tr>\n",
       "      <th>0</th>\n",
       "      <td>28891</td>\n",
       "      <td>Haikyuu!! Second Season</td>\n",
       "      <td>Following their participation at the Inter-Hig...</td>\n",
       "      <td>['Comedy', 'Sports', 'Drama', 'School', 'Shoun...</td>\n",
       "      <td>8.82</td>\n",
       "    </tr>\n",
       "    <tr>\n",
       "      <th>1</th>\n",
       "      <td>23273</td>\n",
       "      <td>Shigatsu wa Kimi no Uso</td>\n",
       "      <td>Music accompanies the path of the human metron...</td>\n",
       "      <td>['Drama', 'Music', 'Romance', 'School', 'Shoun...</td>\n",
       "      <td>8.83</td>\n",
       "    </tr>\n",
       "    <tr>\n",
       "      <th>2</th>\n",
       "      <td>34599</td>\n",
       "      <td>Made in Abyss</td>\n",
       "      <td>The Abyss—a gaping chasm stretching down into ...</td>\n",
       "      <td>['Sci-Fi', 'Adventure', 'Mystery', 'Drama', 'F...</td>\n",
       "      <td>8.83</td>\n",
       "    </tr>\n",
       "    <tr>\n",
       "      <th>3</th>\n",
       "      <td>5114</td>\n",
       "      <td>Fullmetal Alchemist: Brotherhood</td>\n",
       "      <td>\"In order for something to be obtained, someth...</td>\n",
       "      <td>['Action', 'Military', 'Adventure', 'Comedy', ...</td>\n",
       "      <td>9.23</td>\n",
       "    </tr>\n",
       "    <tr>\n",
       "      <th>4</th>\n",
       "      <td>31758</td>\n",
       "      <td>Kizumonogatari III: Reiketsu-hen</td>\n",
       "      <td>After helping revive the legendary vampire Kis...</td>\n",
       "      <td>['Action', 'Mystery', 'Supernatural', 'Vampire']</td>\n",
       "      <td>8.83</td>\n",
       "    </tr>\n",
       "  </tbody>\n",
       "</table>\n",
       "</div>"
      ],
      "text/plain": [
       "   item_id                             title  \\\n",
       "0    28891           Haikyuu!! Second Season   \n",
       "1    23273           Shigatsu wa Kimi no Uso   \n",
       "2    34599                     Made in Abyss   \n",
       "3     5114  Fullmetal Alchemist: Brotherhood   \n",
       "4    31758  Kizumonogatari III: Reiketsu-hen   \n",
       "\n",
       "                                            synopsis  \\\n",
       "0  Following their participation at the Inter-Hig...   \n",
       "1  Music accompanies the path of the human metron...   \n",
       "2  The Abyss—a gaping chasm stretching down into ...   \n",
       "3  \"In order for something to be obtained, someth...   \n",
       "4  After helping revive the legendary vampire Kis...   \n",
       "\n",
       "                                               genre  score  \n",
       "0  ['Comedy', 'Sports', 'Drama', 'School', 'Shoun...   8.82  \n",
       "1  ['Drama', 'Music', 'Romance', 'School', 'Shoun...   8.83  \n",
       "2  ['Sci-Fi', 'Adventure', 'Mystery', 'Drama', 'F...   8.83  \n",
       "3  ['Action', 'Military', 'Adventure', 'Comedy', ...   9.23  \n",
       "4   ['Action', 'Mystery', 'Supernatural', 'Vampire']   8.83  "
      ]
     },
     "execution_count": 9,
     "metadata": {},
     "output_type": "execute_result"
    }
   ],
   "source": [
    "anime = anime.rename(columns={'uid': 'item_id'})\n",
    "anime.head()"
   ]
  },
  {
   "cell_type": "code",
   "execution_count": 10,
   "id": "cffe22d3-f5b0-4da6-838e-1df883e49e0b",
   "metadata": {},
   "outputs": [
    {
     "data": {
      "text/html": [
       "<div>\n",
       "<style scoped>\n",
       "    .dataframe tbody tr th:only-of-type {\n",
       "        vertical-align: middle;\n",
       "    }\n",
       "\n",
       "    .dataframe tbody tr th {\n",
       "        vertical-align: top;\n",
       "    }\n",
       "\n",
       "    .dataframe thead th {\n",
       "        text-align: right;\n",
       "    }\n",
       "</style>\n",
       "<table border=\"1\" class=\"dataframe\">\n",
       "  <thead>\n",
       "    <tr style=\"text-align: right;\">\n",
       "      <th></th>\n",
       "      <th>review_id</th>\n",
       "      <th>user_id</th>\n",
       "      <th>item_id</th>\n",
       "      <th>text</th>\n",
       "      <th>rating</th>\n",
       "    </tr>\n",
       "  </thead>\n",
       "  <tbody>\n",
       "    <tr>\n",
       "      <th>0</th>\n",
       "      <td>255938</td>\n",
       "      <td>DesolatePsyche</td>\n",
       "      <td>34096</td>\n",
       "      <td>\\n           \\n         \\n           \\n       ...</td>\n",
       "      <td>8</td>\n",
       "    </tr>\n",
       "    <tr>\n",
       "      <th>1</th>\n",
       "      <td>259117</td>\n",
       "      <td>baekbeans</td>\n",
       "      <td>34599</td>\n",
       "      <td>\\n           \\n         \\n           \\n       ...</td>\n",
       "      <td>10</td>\n",
       "    </tr>\n",
       "    <tr>\n",
       "      <th>2</th>\n",
       "      <td>253664</td>\n",
       "      <td>skrn</td>\n",
       "      <td>28891</td>\n",
       "      <td>\\n           \\n         \\n           \\n       ...</td>\n",
       "      <td>7</td>\n",
       "    </tr>\n",
       "    <tr>\n",
       "      <th>3</th>\n",
       "      <td>8254</td>\n",
       "      <td>edgewalker00</td>\n",
       "      <td>2904</td>\n",
       "      <td>\\n           \\n         \\n           \\n       ...</td>\n",
       "      <td>9</td>\n",
       "    </tr>\n",
       "    <tr>\n",
       "      <th>4</th>\n",
       "      <td>291149</td>\n",
       "      <td>aManOfCulture99</td>\n",
       "      <td>4181</td>\n",
       "      <td>\\n           \\n         \\n           \\n       ...</td>\n",
       "      <td>10</td>\n",
       "    </tr>\n",
       "  </tbody>\n",
       "</table>\n",
       "</div>"
      ],
      "text/plain": [
       "   review_id          user_id  item_id  \\\n",
       "0     255938   DesolatePsyche    34096   \n",
       "1     259117        baekbeans    34599   \n",
       "2     253664             skrn    28891   \n",
       "3       8254     edgewalker00     2904   \n",
       "4     291149  aManOfCulture99     4181   \n",
       "\n",
       "                                                text  rating  \n",
       "0  \\n           \\n         \\n           \\n       ...       8  \n",
       "1  \\n           \\n         \\n           \\n       ...      10  \n",
       "2  \\n           \\n         \\n           \\n       ...       7  \n",
       "3  \\n           \\n         \\n           \\n       ...       9  \n",
       "4  \\n           \\n         \\n           \\n       ...      10  "
      ]
     },
     "execution_count": 10,
     "metadata": {},
     "output_type": "execute_result"
    }
   ],
   "source": [
    "reviews = reviews.rename(columns={'uid': 'review_id', 'profile': 'user_id', 'anime_uid': 'item_id', 'score': 'rating'})\n",
    "reviews.head()"
   ]
  },
  {
   "cell_type": "markdown",
   "id": "2aa01f56-e82f-47e9-a654-ad364a3eef7c",
   "metadata": {},
   "source": [
    "## Distributions Prior to Reduction"
   ]
  },
  {
   "cell_type": "code",
   "execution_count": 11,
   "id": "fdd3d3fe-2992-4db5-b0ec-8f73b2668bf4",
   "metadata": {},
   "outputs": [],
   "source": [
    "anime_counts = Counter(reviews['item_id']).values()"
   ]
  },
  {
   "cell_type": "code",
   "execution_count": 12,
   "id": "73340702-0386-4f75-a00c-a3cfa43cb58e",
   "metadata": {},
   "outputs": [
    {
     "name": "stdout",
     "output_type": "stream",
     "text": [
      "Mean Reviews per Anime: 16.08763712560089\n",
      "Median Reviews per Anime: 3\n"
     ]
    },
    {
     "data": {
      "image/png": "[encoded data removed]",
      "text/plain": [
       "<Figure size 432x288 with 1 Axes>"
      ]
     },
     "metadata": {},
     "output_type": "display_data"
    }
   ],
   "source": [
    "p = sns.kdeplot(anime_counts)\n",
    "p.set(xlabel=\"# of Reviews\", ylabel=\"Density\", title=\"Density of Reviews per Anime\")\n",
    "print(f\"Mean Reviews per Anime: {sum(anime_counts) / len(anime_counts)}\")\n",
    "print(f\"Median Reviews per Anime: {sorted(anime_counts)[len(anime_counts)//2]}\")"
   ]
  },
  {
   "cell_type": "code",
   "execution_count": 13,
   "id": "20a15549-efd9-4e91-9086-b177abb68b3f",
   "metadata": {},
   "outputs": [],
   "source": [
    "user_counts = Counter(reviews['user_id']).values()"
   ]
  },
  {
   "cell_type": "code",
   "execution_count": 14,
   "id": "bfff1371-4aa8-432f-9460-b0060bfe41a4",
   "metadata": {},
   "outputs": [
    {
     "name": "stdout",
     "output_type": "stream",
     "text": [
      "Mean Reviews per User: 2.7256760989871567\n",
      "Median Reviews per User: 1\n"
     ]
    },
    {
     "data": {
      "image/png": "[encoded data removed]",
      "text/plain": [
       "<Figure size 432x288 with 1 Axes>"
      ]
     },
     "metadata": {},
     "output_type": "display_data"
    }
   ],
   "source": [
    "p = sns.kdeplot(user_counts)\n",
    "p.set(xlabel=\"# of Reviews\", ylabel=\"Density\", title=\"Density of Reviews per User\")\n",
    "print(f\"Mean Reviews per User: {sum(user_counts) / len(user_counts)}\")\n",
    "print(f\"Median Reviews per User: {sorted(user_counts)[len(user_counts)//2]}\")"
   ]
  },
  {
   "cell_type": "markdown",
   "id": "20a2961e-d07d-4c2b-af3c-a80cd1211e62",
   "metadata": {},
   "source": [
    "## Reducing Our Dataset"
   ]
  },
  {
   "cell_type": "markdown",
   "id": "2e314dc6-a6ed-4ddd-ac5d-f40578894bf4",
   "metadata": {
    "jp-MarkdownHeadingCollapsed": true,
    "tags": []
   },
   "source": [
    "Recommendation systems typically struggle with sparse datasets, and our dataset is **very** sparse.\n",
    "\n",
    "We apply a standard filter of only items with > 10 reviews. Then, we apply another filter on top for only users with > 10 reviews."
   ]
  },
  {
   "cell_type": "code",
   "execution_count": 15,
   "id": "f5474bc2-4ff5-49f2-a4c1-f33fbc640286",
   "metadata": {},
   "outputs": [],
   "source": [
    "# Flags to ensure cell runs once\n",
    "filtered_items = False\n",
    "filtered_users = False"
   ]
  },
  {
   "cell_type": "markdown",
   "id": "d3c9730a-cc01-4ae8-bc91-3413f7f53162",
   "metadata": {},
   "source": [
    "## Keep items with >= 10 reviews"
   ]
  },
  {
   "cell_type": "code",
   "execution_count": 16,
   "id": "d1945645-43d7-4986-bf1f-88b87c080f0b",
   "metadata": {},
   "outputs": [
    {
     "name": "stdout",
     "output_type": "stream",
     "text": [
      "# of reviews after filtering by item counts >= 10: 113874\n"
     ]
    }
   ],
   "source": [
    "if not filtered_users and not filtered_items:\n",
    "    anime_counts = Counter(reviews['item_id'])\n",
    "    selected_anime = {k: v for k,v in anime_counts.items() if v >= 10}\n",
    "    reviews = reviews[reviews['item_id'].isin(selected_anime)]\n",
    "    filtered_items = True\n",
    "    print(f\"# of reviews after filtering by item counts >= 10: {len(reviews)}\")\n",
    "elif not filtered_users and filtered_items:\n",
    "    print(\"You somehow filtered items first, please reload data\")\n",
    "else:\n",
    "    print(\"You're done filtering\")\n",
    "    print(f\"# of reviews: {len(reviews)}\")"
   ]
  },
  {
   "cell_type": "markdown",
   "id": "42f7d732-c821-415c-aff1-609dfd5cb1b4",
   "metadata": {},
   "source": [
    "## Keep users with >= 10 reviews"
   ]
  },
  {
   "cell_type": "code",
   "execution_count": 17,
   "id": "c76bd71a-e1d9-4420-8c66-f8c0264be15e",
   "metadata": {},
   "outputs": [
    {
     "name": "stdout",
     "output_type": "stream",
     "text": [
      "# of reviews after further filtering by user counts >= 10: 47885\n"
     ]
    }
   ],
   "source": [
    "if filtered_items and not filtered_users:\n",
    "    user_counts = Counter(reviews['user_id'])\n",
    "    selected_users = {k: v for k,v in user_counts.items() if v >= 10}\n",
    "    reviews = reviews[reviews['user_id'].isin(selected_users)]\n",
    "    filtered_users = True\n",
    "    print(f\"# of reviews after further filtering by user counts >= 10: {len(users)}\")\n",
    "elif not filtered_items:\n",
    "    print(\"Filter items first\")\n",
    "else:\n",
    "    print(\"You're done filtering.\")\n",
    "    print(f\"# of reviews: {len(reviews)}\")"
   ]
  },
  {
   "cell_type": "markdown",
   "id": "49618b87-2f80-4b71-a1fb-a3a7e68ec50a",
   "metadata": {},
   "source": [
    "## Remove items that have no reviews"
   ]
  },
  {
   "cell_type": "code",
   "execution_count": 18,
   "id": "47e553f2-c62b-472e-96f4-2a200c1e3773",
   "metadata": {},
   "outputs": [],
   "source": [
    "anime = anime[anime['item_id'].isin(set(reviews['item_id']))]"
   ]
  },
  {
   "cell_type": "markdown",
   "id": "aa592ee4-c412-47e6-b5f3-ab4560d93ec8",
   "metadata": {},
   "source": [
    "## Re-examining Distributions"
   ]
  },
  {
   "cell_type": "code",
   "execution_count": 19,
   "id": "8b904d16-fb58-4127-86da-72b3bd488663",
   "metadata": {},
   "outputs": [],
   "source": [
    "anime_counts = Counter(reviews['item_id']).values()"
   ]
  },
  {
   "cell_type": "code",
   "execution_count": 20,
   "id": "31e24391-b956-4c94-bf7b-abcf31a7feed",
   "metadata": {},
   "outputs": [
    {
     "name": "stdout",
     "output_type": "stream",
     "text": [
      "Mean Reviews per Anime: 15.771479185119574\n",
      "Median Reviews per Anime: 10\n"
     ]
    },
    {
     "data": {
      "image/png": "[encoded data removed]",
      "text/plain": [
       "<Figure size 432x288 with 1 Axes>"
      ]
     },
     "metadata": {},
     "output_type": "display_data"
    }
   ],
   "source": [
    "p = sns.kdeplot(anime_counts)\n",
    "p.set(xlabel=\"# of Reviews\", ylabel=\"Density\", title=\"Density of Reviews per Anime\")\n",
    "print(f\"Mean Reviews per Anime: {sum(anime_counts) / len(anime_counts)}\")\n",
    "print(f\"Median Reviews per Anime: {sorted(anime_counts)[len(anime_counts)//2]}\")"
   ]
  },
  {
   "cell_type": "code",
   "execution_count": 21,
   "id": "db2a4d76-a1f1-4e15-b4c6-b4d799098f5e",
   "metadata": {},
   "outputs": [],
   "source": [
    "user_counts = Counter(reviews['user_id']).values()"
   ]
  },
  {
   "cell_type": "code",
   "execution_count": 22,
   "id": "5d2b51b9-5e08-44ab-8d2b-8dc3e480a0d6",
   "metadata": {},
   "outputs": [
    {
     "name": "stdout",
     "output_type": "stream",
     "text": [
      "Mean Reviews per User: 23.29103989535644\n",
      "Median Reviews per User: 15\n"
     ]
    },
    {
     "data": {
      "image/png": "[encoded data removed]",
      "text/plain": [
       "<Figure size 432x288 with 1 Axes>"
      ]
     },
     "metadata": {},
     "output_type": "display_data"
    }
   ],
   "source": [
    "p = sns.kdeplot(user_counts)\n",
    "p.set(xlabel=\"# of Reviews\", ylabel=\"Density\", title=\"Density of Reviews per User\")\n",
    "print(f\"Mean Reviews per User: {sum(user_counts) / len(user_counts)}\")\n",
    "print(f\"Median Reviews per User: {sorted(user_counts)[len(user_counts)//2]}\")"
   ]
  },
  {
   "cell_type": "code",
   "execution_count": 23,
   "id": "f0704702-c660-44f6-a6e5-ee72f7a719b3",
   "metadata": {},
   "outputs": [],
   "source": [
    "# TODO: Insert overlayed distribution here (before and after processing)"
   ]
  },
  {
   "cell_type": "markdown",
   "id": "46da4f5f-3a8c-40bb-bfc0-1684e1fad7f7",
   "metadata": {},
   "source": [
    "## Cleaning reviews to remove MAL artifacts that were collected by scraper"
   ]
  },
  {
   "cell_type": "code",
   "execution_count": 501,
   "id": "1ae78fa2-49a7-4e32-9c7a-108f8765193e",
   "metadata": {},
   "outputs": [],
   "source": [
    "end_of_scores_marker = \"\\n         \\n       \\n     \\n\\n                    \\n    \"\n",
    "reviews['text'] = reviews['text'].apply(lambda x: x[x.index(end_of_scores_marker) + len(end_of_scores_marker):])"
   ]
  },
  {
   "cell_type": "code",
   "execution_count": 502,
   "id": "f09a42f7-5045-4f52-bfa2-ee764205d8bc",
   "metadata": {},
   "outputs": [],
   "source": [
    "end_of_review_marker = \"\\n\\n          \\n \\n       Helpful \\n   \\n      \"\n",
    "reviews['text'] = reviews['text'].apply(lambda x: x[:x.index(end_of_review_marker)])"
   ]
  },
  {
   "cell_type": "code",
   "execution_count": 503,
   "id": "16592105-2d92-48dc-ba6c-e71902da792d",
   "metadata": {},
   "outputs": [
    {
     "data": {
      "text/html": [
       "<div>\n",
       "<style scoped>\n",
       "    .dataframe tbody tr th:only-of-type {\n",
       "        vertical-align: middle;\n",
       "    }\n",
       "\n",
       "    .dataframe tbody tr th {\n",
       "        vertical-align: top;\n",
       "    }\n",
       "\n",
       "    .dataframe thead th {\n",
       "        text-align: right;\n",
       "    }\n",
       "</style>\n",
       "<table border=\"1\" class=\"dataframe\">\n",
       "  <thead>\n",
       "    <tr style=\"text-align: right;\">\n",
       "      <th></th>\n",
       "      <th>review_id</th>\n",
       "      <th>user_id</th>\n",
       "      <th>item_id</th>\n",
       "      <th>text</th>\n",
       "      <th>rating</th>\n",
       "    </tr>\n",
       "  </thead>\n",
       "  <tbody>\n",
       "    <tr>\n",
       "      <th>0</th>\n",
       "      <td>255938</td>\n",
       "      <td>DesolatePsyche</td>\n",
       "      <td>34096</td>\n",
       "      <td>First things first. My \"reviews\" system is exp...</td>\n",
       "      <td>8</td>\n",
       "    </tr>\n",
       "    <tr>\n",
       "      <th>1</th>\n",
       "      <td>259117</td>\n",
       "      <td>baekbeans</td>\n",
       "      <td>34599</td>\n",
       "      <td>Let me start off by saying that Made in Abyss ...</td>\n",
       "      <td>10</td>\n",
       "    </tr>\n",
       "    <tr>\n",
       "      <th>2</th>\n",
       "      <td>253664</td>\n",
       "      <td>skrn</td>\n",
       "      <td>28891</td>\n",
       "      <td>Art 9/10: It is great, especially the actions ...</td>\n",
       "      <td>7</td>\n",
       "    </tr>\n",
       "    <tr>\n",
       "      <th>6</th>\n",
       "      <td>247454</td>\n",
       "      <td>Waffle_Empress</td>\n",
       "      <td>16664</td>\n",
       "      <td>As someone who loves Studio Ghibli and its mov...</td>\n",
       "      <td>6</td>\n",
       "    </tr>\n",
       "    <tr>\n",
       "      <th>8</th>\n",
       "      <td>23791</td>\n",
       "      <td>jchang</td>\n",
       "      <td>2904</td>\n",
       "      <td>code geass is one of those series that everybo...</td>\n",
       "      <td>10</td>\n",
       "    </tr>\n",
       "  </tbody>\n",
       "</table>\n",
       "</div>"
      ],
      "text/plain": [
       "   review_id         user_id  item_id  \\\n",
       "0     255938  DesolatePsyche    34096   \n",
       "1     259117       baekbeans    34599   \n",
       "2     253664            skrn    28891   \n",
       "6     247454  Waffle_Empress    16664   \n",
       "8      23791          jchang     2904   \n",
       "\n",
       "                                                text  rating  \n",
       "0  First things first. My \"reviews\" system is exp...       8  \n",
       "1  Let me start off by saying that Made in Abyss ...      10  \n",
       "2  Art 9/10: It is great, especially the actions ...       7  \n",
       "6  As someone who loves Studio Ghibli and its mov...       6  \n",
       "8  code geass is one of those series that everybo...      10  "
      ]
     },
     "execution_count": 503,
     "metadata": {},
     "output_type": "execute_result"
    }
   ],
   "source": [
    "reviews.head()"
   ]
  },
  {
   "cell_type": "markdown",
   "id": "b39c649e-24b6-44a1-bf37-3c4c2d999051",
   "metadata": {},
   "source": [
    "## Re-indexing user and item ids"
   ]
  },
  {
   "cell_type": "code",
   "execution_count": 504,
   "id": "7908b457-6095-41be-83f0-9521f212f00b",
   "metadata": {},
   "outputs": [],
   "source": [
    "username_to_idx = {}\n",
    "item_id_to_idx = {}\n",
    "for _, row in reviews.iterrows():\n",
    "    username, item_id = row.user_id, row.item_id\n",
    "    if username not in username_to_idx:\n",
    "        username_to_idx[username] = len(username_to_idx)\n",
    "    if item_id not in item_id_to_idx:\n",
    "        item_id_to_idx[item_id] = 1 + len(item_id_to_idx)\n",
    "assert len(username_to_idx) == reviews['user_id'].nunique()\n",
    "assert len(item_id_to_idx) == reviews['item_id'].nunique()"
   ]
  },
  {
   "cell_type": "code",
   "execution_count": 505,
   "id": "e65f588f-73bb-4fe6-911b-2d9641447564",
   "metadata": {},
   "outputs": [],
   "source": [
    "reviews['user_id'] = reviews['user_id'].apply(lambda x: username_to_idx[x])\n",
    "reviews['item_id'] = reviews['item_id'].apply(lambda x: item_id_to_idx[x])"
   ]
  },
  {
   "cell_type": "code",
   "execution_count": 506,
   "id": "37fcc40c-685d-4f2b-b0a8-d99113ff9761",
   "metadata": {},
   "outputs": [],
   "source": [
    "anime['item_id'] = anime['item_id'].apply(lambda x: item_id_to_idx[x])\n",
    "assert len(anime) == reviews['item_id'].nunique()"
   ]
  },
  {
   "cell_type": "markdown",
   "id": "42f08305-3241-4229-8eee-9ed8ee0f216d",
   "metadata": {},
   "source": [
    "## Applying tokenization to text"
   ]
  },
  {
   "cell_type": "code",
   "execution_count": 507,
   "id": "cd9b242d-8eb9-40b6-89e5-bf16800cccc7",
   "metadata": {},
   "outputs": [],
   "source": [
    "reviews['tokenized_text'] = reviews['text'].apply(lambda doc: [word_tokenize(sent) for sent in sent_tokenize(doc)])"
   ]
  },
  {
   "cell_type": "code",
   "execution_count": 508,
   "id": "520519a4-4606-41b6-97c4-935758603ed6",
   "metadata": {},
   "outputs": [
    {
     "data": {
      "text/html": [
       "<div>\n",
       "<style scoped>\n",
       "    .dataframe tbody tr th:only-of-type {\n",
       "        vertical-align: middle;\n",
       "    }\n",
       "\n",
       "    .dataframe tbody tr th {\n",
       "        vertical-align: top;\n",
       "    }\n",
       "\n",
       "    .dataframe thead th {\n",
       "        text-align: right;\n",
       "    }\n",
       "</style>\n",
       "<table border=\"1\" class=\"dataframe\">\n",
       "  <thead>\n",
       "    <tr style=\"text-align: right;\">\n",
       "      <th></th>\n",
       "      <th>review_id</th>\n",
       "      <th>user_id</th>\n",
       "      <th>item_id</th>\n",
       "      <th>text</th>\n",
       "      <th>rating</th>\n",
       "      <th>tokenized_text</th>\n",
       "    </tr>\n",
       "  </thead>\n",
       "  <tbody>\n",
       "    <tr>\n",
       "      <th>0</th>\n",
       "      <td>255938</td>\n",
       "      <td>0</td>\n",
       "      <td>1</td>\n",
       "      <td>First things first. My \"reviews\" system is exp...</td>\n",
       "      <td>8</td>\n",
       "      <td>[[First, things, first, .], [My, ``, reviews, ...</td>\n",
       "    </tr>\n",
       "    <tr>\n",
       "      <th>1</th>\n",
       "      <td>259117</td>\n",
       "      <td>1</td>\n",
       "      <td>2</td>\n",
       "      <td>Let me start off by saying that Made in Abyss ...</td>\n",
       "      <td>10</td>\n",
       "      <td>[[Let, me, start, off, by, saying, that, Made,...</td>\n",
       "    </tr>\n",
       "    <tr>\n",
       "      <th>2</th>\n",
       "      <td>253664</td>\n",
       "      <td>2</td>\n",
       "      <td>3</td>\n",
       "      <td>Art 9/10: It is great, especially the actions ...</td>\n",
       "      <td>7</td>\n",
       "      <td>[[Art, 9/10, :, It, is, great, ,, especially, ...</td>\n",
       "    </tr>\n",
       "    <tr>\n",
       "      <th>6</th>\n",
       "      <td>247454</td>\n",
       "      <td>3</td>\n",
       "      <td>4</td>\n",
       "      <td>As someone who loves Studio Ghibli and its mov...</td>\n",
       "      <td>6</td>\n",
       "      <td>[[As, someone, who, loves, Studio, Ghibli, and...</td>\n",
       "    </tr>\n",
       "    <tr>\n",
       "      <th>8</th>\n",
       "      <td>23791</td>\n",
       "      <td>4</td>\n",
       "      <td>5</td>\n",
       "      <td>code geass is one of those series that everybo...</td>\n",
       "      <td>10</td>\n",
       "      <td>[[code, geass, is, one, of, those, series, tha...</td>\n",
       "    </tr>\n",
       "  </tbody>\n",
       "</table>\n",
       "</div>"
      ],
      "text/plain": [
       "   review_id  user_id  item_id  \\\n",
       "0     255938        0        1   \n",
       "1     259117        1        2   \n",
       "2     253664        2        3   \n",
       "6     247454        3        4   \n",
       "8      23791        4        5   \n",
       "\n",
       "                                                text  rating  \\\n",
       "0  First things first. My \"reviews\" system is exp...       8   \n",
       "1  Let me start off by saying that Made in Abyss ...      10   \n",
       "2  Art 9/10: It is great, especially the actions ...       7   \n",
       "6  As someone who loves Studio Ghibli and its mov...       6   \n",
       "8  code geass is one of those series that everybo...      10   \n",
       "\n",
       "                                      tokenized_text  \n",
       "0  [[First, things, first, .], [My, ``, reviews, ...  \n",
       "1  [[Let, me, start, off, by, saying, that, Made,...  \n",
       "2  [[Art, 9/10, :, It, is, great, ,, especially, ...  \n",
       "6  [[As, someone, who, loves, Studio, Ghibli, and...  \n",
       "8  [[code, geass, is, one, of, those, series, tha...  "
      ]
     },
     "execution_count": 508,
     "metadata": {},
     "output_type": "execute_result"
    }
   ],
   "source": [
    "reviews.head()"
   ]
  },
  {
   "cell_type": "markdown",
   "id": "a2b863b4-7c24-43d8-8da7-7f1cae5dd65d",
   "metadata": {},
   "source": [
    "## Cleaning and tokenizing synopsis"
   ]
  },
  {
   "cell_type": "code",
   "execution_count": 509,
   "id": "e323169a-0404-42ad-ae95-97e5acd85583",
   "metadata": {},
   "outputs": [],
   "source": [
    "end_of_synopsis_marker = \" \\r\\n \\r\\n[Written by MAL Rewrite]\""
   ]
  },
  {
   "cell_type": "code",
   "execution_count": 563,
   "id": "4a9ac637-3223-4d09-82fa-2f1a6162fa97",
   "metadata": {
    "tags": []
   },
   "outputs": [],
   "source": [
    "def remove_artifact(x):\n",
    "    if end_of_synopsis_marker not in x:\n",
    "        return x\n",
    "    return x[:x.index(end_of_synopsis_marker)]\n",
    "\n",
    "def strip_extra_quotes(x):\n",
    "    return x.strip('\"')"
   ]
  },
  {
   "cell_type": "code",
   "execution_count": 564,
   "id": "aea8f3a2-dc9c-4e81-a1eb-5b24a5d33152",
   "metadata": {},
   "outputs": [],
   "source": [
    "anime['synopsis'] = anime['synopsis'].fillna('')\n",
    "anime['synopsis'] = anime['synopsis'].apply(lambda x: remove_artifact(x))\n",
    "anime['synopsis'] = anime['synopsis'].apply(lambda x: strip_extra_quotes(x))"
   ]
  },
  {
   "cell_type": "code",
   "execution_count": 565,
   "id": "627cac32-e597-4b56-92c5-471df557b6dd",
   "metadata": {},
   "outputs": [],
   "source": [
    "anime['tokenized_synopsis'] = anime['synopsis'].apply(lambda sent: word_tokenize(sent))"
   ]
  },
  {
   "cell_type": "markdown",
   "id": "f2232569-1faa-45a1-8eb4-9dc12b5f78b1",
   "metadata": {},
   "source": [
    "# Saving"
   ]
  },
  {
   "cell_type": "code",
   "execution_count": 25,
   "id": "7366df84-e8b9-456e-b827-d9dd2e770ff3",
   "metadata": {},
   "outputs": [],
   "source": [
    "# Paths\n",
    "PROCESSED_FOLDER = './data/processed/'\n",
    "PROCESSED_ANIME_FILE = 'processed_animes.csv'\n",
    "PROCESSED_REVIEWS_FILE = 'processed_reviews.csv'"
   ]
  },
  {
   "cell_type": "code",
   "execution_count": 32,
   "id": "a49edc53-31bb-4b91-84db-62c3b4a4e7e5",
   "metadata": {},
   "outputs": [],
   "source": [
    "if not os.path.exists(os.path.join(PROCESSED_FOLDER, PROCESSED_ANIME_FILE)):\n",
    "    print(\"Saving Anime...\")\n",
    "    anime.to_csv(os.path.join(PROCESSED_FOLDER, PROCESSED_ANIME_FILE), index=False)\n",
    "    print(\"Done\")\n",
    "if not os.path.exists(os.path.join(PROCESSED_FOLDER, PROCESSED_REVIEWS_FILE)):\n",
    "    print(\"Saving Reviews...\")\n",
    "    reviews.to_csv(os.path.join(PROCESSED_FOLDER, PROCESSED_REVIEWS_FILE), index=False)"
   ]
  },
  {
   "cell_type": "code",
   "execution_count": 35,
   "id": "01daecde-d5ff-4bb7-b535-bb4c7b34143f",
   "metadata": {},
   "outputs": [],
   "source": [
    "filtered_reviews_df = pd.read_csv(os.path.join(PROCESSED_FOLDER, PROCESSED_REVIEWS_FILE))"
   ]
  },
  {
   "cell_type": "code",
   "execution_count": 36,
   "id": "fe3bccdb-3727-41d3-bc4c-6255f8fc7375",
   "metadata": {},
   "outputs": [
    {
     "data": {
      "text/html": [
       "<div>\n",
       "<style scoped>\n",
       "    .dataframe tbody tr th:only-of-type {\n",
       "        vertical-align: middle;\n",
       "    }\n",
       "\n",
       "    .dataframe tbody tr th {\n",
       "        vertical-align: top;\n",
       "    }\n",
       "\n",
       "    .dataframe thead th {\n",
       "        text-align: right;\n",
       "    }\n",
       "</style>\n",
       "<table border=\"1\" class=\"dataframe\">\n",
       "  <thead>\n",
       "    <tr style=\"text-align: right;\">\n",
       "      <th></th>\n",
       "      <th>review_id</th>\n",
       "      <th>user_id</th>\n",
       "      <th>item_id</th>\n",
       "      <th>text</th>\n",
       "      <th>rating</th>\n",
       "      <th>tokenized_text</th>\n",
       "    </tr>\n",
       "  </thead>\n",
       "  <tbody>\n",
       "    <tr>\n",
       "      <th>0</th>\n",
       "      <td>255938</td>\n",
       "      <td>0</td>\n",
       "      <td>1</td>\n",
       "      <td>First things first. My \"reviews\" system is exp...</td>\n",
       "      <td>8</td>\n",
       "      <td>[['First', 'things', 'first', '.'], ['My', '``...</td>\n",
       "    </tr>\n",
       "    <tr>\n",
       "      <th>1</th>\n",
       "      <td>259117</td>\n",
       "      <td>1</td>\n",
       "      <td>2</td>\n",
       "      <td>Let me start off by saying that Made in Abyss ...</td>\n",
       "      <td>10</td>\n",
       "      <td>[['Let', 'me', 'start', 'off', 'by', 'saying',...</td>\n",
       "    </tr>\n",
       "    <tr>\n",
       "      <th>2</th>\n",
       "      <td>253664</td>\n",
       "      <td>2</td>\n",
       "      <td>3</td>\n",
       "      <td>Art 9/10: It is great, especially the actions ...</td>\n",
       "      <td>7</td>\n",
       "      <td>[['Art', '9/10', ':', 'It', 'is', 'great', ','...</td>\n",
       "    </tr>\n",
       "    <tr>\n",
       "      <th>3</th>\n",
       "      <td>247454</td>\n",
       "      <td>3</td>\n",
       "      <td>4</td>\n",
       "      <td>As someone who loves Studio Ghibli and its mov...</td>\n",
       "      <td>6</td>\n",
       "      <td>[['As', 'someone', 'who', 'loves', 'Studio', '...</td>\n",
       "    </tr>\n",
       "    <tr>\n",
       "      <th>4</th>\n",
       "      <td>23791</td>\n",
       "      <td>4</td>\n",
       "      <td>5</td>\n",
       "      <td>code geass is one of those series that everybo...</td>\n",
       "      <td>10</td>\n",
       "      <td>[['code', 'geass', 'is', 'one', 'of', 'those',...</td>\n",
       "    </tr>\n",
       "  </tbody>\n",
       "</table>\n",
       "</div>"
      ],
      "text/plain": [
       "   review_id  user_id  item_id  \\\n",
       "0     255938        0        1   \n",
       "1     259117        1        2   \n",
       "2     253664        2        3   \n",
       "3     247454        3        4   \n",
       "4      23791        4        5   \n",
       "\n",
       "                                                text  rating  \\\n",
       "0  First things first. My \"reviews\" system is exp...       8   \n",
       "1  Let me start off by saying that Made in Abyss ...      10   \n",
       "2  Art 9/10: It is great, especially the actions ...       7   \n",
       "3  As someone who loves Studio Ghibli and its mov...       6   \n",
       "4  code geass is one of those series that everybo...      10   \n",
       "\n",
       "                                      tokenized_text  \n",
       "0  [['First', 'things', 'first', '.'], ['My', '``...  \n",
       "1  [['Let', 'me', 'start', 'off', 'by', 'saying',...  \n",
       "2  [['Art', '9/10', ':', 'It', 'is', 'great', ','...  \n",
       "3  [['As', 'someone', 'who', 'loves', 'Studio', '...  \n",
       "4  [['code', 'geass', 'is', 'one', 'of', 'those',...  "
      ]
     },
     "execution_count": 36,
     "metadata": {},
     "output_type": "execute_result"
    }
   ],
   "source": [
    "filtered_reviews_df.head()"
   ]
  }
 ],
 "metadata": {
  "kernelspec": {
   "display_name": "nlp",
   "language": "python",
   "name": "nlp"
  },
  "language_info": {
   "codemirror_mode": {
    "name": "ipython",
    "version": 3
   },
   "file_extension": ".py",
   "mimetype": "text/x-python",
   "name": "python",
   "nbconvert_exporter": "python",
   "pygments_lexer": "ipython3",
   "version": "3.9.7"
  }
 },
 "nbformat": 4,
 "nbformat_minor": 5
}
