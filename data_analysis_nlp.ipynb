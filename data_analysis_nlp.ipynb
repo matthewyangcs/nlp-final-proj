{
 "cells": [
  {
   "cell_type": "code",
   "execution_count": 1,
   "id": "4c4f4e1e-cf51-457e-8a28-644249d6fe30",
   "metadata": {},
   "outputs": [],
   "source": [
    "%load_ext autoreload\n",
    "%autoreload 2"
   ]
  },
  {
   "cell_type": "code",
   "execution_count": 2,
   "id": "7ac6099f-4a36-40a2-a7d9-1ef4bdfe0126",
   "metadata": {},
   "outputs": [],
   "source": [
    "import pandas as pd\n",
    "import numpy as np\n",
    "import json\n",
    "import os\n",
    "from collections import Counter\n",
    "import nltk\n",
    "from nltk.tokenize import word_tokenize, sent_tokenize\n",
    "import re\n",
    "import seaborn as sns\n",
    "import matplotlib.pyplot as plt\n",
    "import swifter\n",
    "import multiprocessing\n",
    "import time\n",
    "from vaderSentiment.vaderSentiment import SentimentIntensityAnalyzer\n",
    "from sklearn.linear_model import LinearRegression\n",
    "from sklearn.metrics import r2_score\n",
    "import statsmodels.formula.api as smf\n",
    "sns.set_style(\"darkgrid\")"
   ]
  },
  {
   "cell_type": "markdown",
   "id": "81807498-116a-4106-a0bc-a0f4b22f7670",
   "metadata": {},
   "source": [
    "## Loading Processed Reviews"
   ]
  },
  {
   "cell_type": "code",
   "execution_count": 3,
   "id": "aaa8c2fc-2e5c-4595-a6f2-c1b7e266adda",
   "metadata": {},
   "outputs": [],
   "source": [
    "# Paths\n",
    "PROCESSED_FOLDER = './data/processed/'\n",
    "PROCESSED_REVIEWS_FILE = 'processed_reviews.csv'"
   ]
  },
  {
   "cell_type": "code",
   "execution_count": 4,
   "id": "ad8e1077-d718-4b16-a063-793c41eecd0e",
   "metadata": {},
   "outputs": [],
   "source": [
    "reviews = pd.read_csv(os.path.join(PROCESSED_FOLDER, PROCESSED_REVIEWS_FILE))"
   ]
  },
  {
   "cell_type": "code",
   "execution_count": 5,
   "id": "3f4a9586-a0d9-46be-9916-5b19711c87d2",
   "metadata": {},
   "outputs": [
    {
     "data": {
      "text/html": [
       "<div>\n",
       "<style scoped>\n",
       "    .dataframe tbody tr th:only-of-type {\n",
       "        vertical-align: middle;\n",
       "    }\n",
       "\n",
       "    .dataframe tbody tr th {\n",
       "        vertical-align: top;\n",
       "    }\n",
       "\n",
       "    .dataframe thead th {\n",
       "        text-align: right;\n",
       "    }\n",
       "</style>\n",
       "<table border=\"1\" class=\"dataframe\">\n",
       "  <thead>\n",
       "    <tr style=\"text-align: right;\">\n",
       "      <th></th>\n",
       "      <th>review_id</th>\n",
       "      <th>user_id</th>\n",
       "      <th>item_id</th>\n",
       "      <th>text</th>\n",
       "      <th>rating</th>\n",
       "      <th>tokenized_text</th>\n",
       "    </tr>\n",
       "  </thead>\n",
       "  <tbody>\n",
       "    <tr>\n",
       "      <th>0</th>\n",
       "      <td>255938</td>\n",
       "      <td>0</td>\n",
       "      <td>1</td>\n",
       "      <td>First things first. My \"reviews\" system is exp...</td>\n",
       "      <td>8</td>\n",
       "      <td>[['First', 'things', 'first', '.'], ['My', '``...</td>\n",
       "    </tr>\n",
       "    <tr>\n",
       "      <th>1</th>\n",
       "      <td>259117</td>\n",
       "      <td>1</td>\n",
       "      <td>2</td>\n",
       "      <td>Let me start off by saying that Made in Abyss ...</td>\n",
       "      <td>10</td>\n",
       "      <td>[['Let', 'me', 'start', 'off', 'by', 'saying',...</td>\n",
       "    </tr>\n",
       "    <tr>\n",
       "      <th>2</th>\n",
       "      <td>253664</td>\n",
       "      <td>2</td>\n",
       "      <td>3</td>\n",
       "      <td>Art 9/10: It is great, especially the actions ...</td>\n",
       "      <td>7</td>\n",
       "      <td>[['Art', '9/10', ':', 'It', 'is', 'great', ','...</td>\n",
       "    </tr>\n",
       "    <tr>\n",
       "      <th>3</th>\n",
       "      <td>247454</td>\n",
       "      <td>3</td>\n",
       "      <td>4</td>\n",
       "      <td>As someone who loves Studio Ghibli and its mov...</td>\n",
       "      <td>6</td>\n",
       "      <td>[['As', 'someone', 'who', 'loves', 'Studio', '...</td>\n",
       "    </tr>\n",
       "    <tr>\n",
       "      <th>4</th>\n",
       "      <td>23791</td>\n",
       "      <td>4</td>\n",
       "      <td>5</td>\n",
       "      <td>code geass is one of those series that everybo...</td>\n",
       "      <td>10</td>\n",
       "      <td>[['code', 'geass', 'is', 'one', 'of', 'those',...</td>\n",
       "    </tr>\n",
       "  </tbody>\n",
       "</table>\n",
       "</div>"
      ],
      "text/plain": [
       "   review_id  user_id  item_id  \\\n",
       "0     255938        0        1   \n",
       "1     259117        1        2   \n",
       "2     253664        2        3   \n",
       "3     247454        3        4   \n",
       "4      23791        4        5   \n",
       "\n",
       "                                                text  rating  \\\n",
       "0  First things first. My \"reviews\" system is exp...       8   \n",
       "1  Let me start off by saying that Made in Abyss ...      10   \n",
       "2  Art 9/10: It is great, especially the actions ...       7   \n",
       "3  As someone who loves Studio Ghibli and its mov...       6   \n",
       "4  code geass is one of those series that everybo...      10   \n",
       "\n",
       "                                      tokenized_text  \n",
       "0  [['First', 'things', 'first', '.'], ['My', '``...  \n",
       "1  [['Let', 'me', 'start', 'off', 'by', 'saying',...  \n",
       "2  [['Art', '9/10', ':', 'It', 'is', 'great', ','...  \n",
       "3  [['As', 'someone', 'who', 'loves', 'Studio', '...  \n",
       "4  [['code', 'geass', 'is', 'one', 'of', 'those',...  "
      ]
     },
     "execution_count": 5,
     "metadata": {},
     "output_type": "execute_result"
    }
   ],
   "source": [
    "reviews.head()"
   ]
  },
  {
   "cell_type": "markdown",
   "id": "5ae6aee4-49b9-4529-b36d-d3d6fca576fe",
   "metadata": {},
   "source": [
    "# Basic Sentiment Regression\n",
    "In this section, we examine whether there is a relationship between textual features and the rating that a user gives. Note that this is an easier task to recommendation—when you are recommending hidden items, you do not have access to a user's review"
   ]
  },
  {
   "cell_type": "markdown",
   "id": "0a14240d-54a8-4a00-8685-dea111ae8e75",
   "metadata": {},
   "source": [
    "## Setting up Vader"
   ]
  },
  {
   "cell_type": "code",
   "execution_count": 6,
   "id": "4588fc90-6ef6-4248-99a7-07c67bd88773",
   "metadata": {},
   "outputs": [],
   "source": [
    "analyzer = SentimentIntensityAnalyzer()\n",
    "\n",
    "def analyze(s: str) -> dict:\n",
    "    return analyzer.polarity_scores(s)\n",
    "\n",
    "def analyze_sentence_average(paragraph: str) -> dict:\n",
    "    \"\"\"Uses sent_tokenize from nltk_tokenize, then averages together sentiment of each sentence\"\"\"\n",
    "    neg_scores = []\n",
    "    neu_scores = []\n",
    "    pos_scores = []\n",
    "    compound_scores = []\n",
    "    \n",
    "    for sent in sent_tokenize(paragraph):\n",
    "        scores = list(analyze(sent).values())\n",
    "        neg_scores.append(scores[0])\n",
    "        neu_scores.append(scores[1])\n",
    "        pos_scores.append(scores[2])\n",
    "        compound_scores.append(scores[3])\n",
    "\n",
    "    avg_dict = {\n",
    "        'neg': np.mean(neg_scores),\n",
    "        'neu': np.mean(neu_scores),\n",
    "        'pos': np.mean(pos_scores),\n",
    "        'compound': np.mean(compound_scores)\n",
    "    }\n",
    "    \n",
    "    return avg_dict"
   ]
  },
  {
   "cell_type": "code",
   "execution_count": 7,
   "id": "407ba5eb-d88f-4367-89ae-184fb0e5f045",
   "metadata": {},
   "outputs": [
    {
     "name": "stdout",
     "output_type": "stream",
     "text": [
      "{'neg': 0.473, 'neu': 0.527, 'pos': 0.0, 'compound': -0.6697}\n",
      "{'neg': 0.473, 'neu': 0.527, 'pos': 0.0, 'compound': -0.6697}\n"
     ]
    }
   ],
   "source": [
    "# example\n",
    "text = \"Hi I really hated this show\"\n",
    "print(analyze(text))\n",
    "print(analyze_sentence_average(text))"
   ]
  },
  {
   "cell_type": "markdown",
   "id": "05ef2447-28e7-4248-9426-3a480ea39e5e",
   "metadata": {},
   "source": [
    "## Generating Scores for All Reviews"
   ]
  },
  {
   "cell_type": "code",
   "execution_count": 8,
   "id": "7be1f2c4-75eb-4d99-8ee3-e35867f27ee3",
   "metadata": {},
   "outputs": [],
   "source": [
    "df = reviews.copy()"
   ]
  },
  {
   "cell_type": "code",
   "execution_count": 9,
   "id": "3a8fa8ce-38a8-4f80-8e3a-e9431b121b62",
   "metadata": {},
   "outputs": [
    {
     "data": {
      "application/vnd.jupyter.widget-view+json": {
       "model_id": "e60726846a034419b4a4fc6df97ac27e",
       "version_major": 2,
       "version_minor": 0
      },
      "text/plain": [
       "Dask Apply:   0%|          | 0/160 [00:00<?, ?it/s]"
      ]
     },
     "metadata": {},
     "output_type": "display_data"
    }
   ],
   "source": [
    "df['neg_sent_avg'] = df['text'].swifter.allow_dask_on_strings(True).apply(lambda x: analyze_sentence_average(x)['neg'])"
   ]
  },
  {
   "cell_type": "code",
   "execution_count": 10,
   "id": "95fa4349-0aba-4c09-8ba6-ca88cb575dc0",
   "metadata": {},
   "outputs": [
    {
     "data": {
      "application/vnd.jupyter.widget-view+json": {
       "model_id": "e170c38b6eca4b49b3654e111e58916f",
       "version_major": 2,
       "version_minor": 0
      },
      "text/plain": [
       "Dask Apply:   0%|          | 0/160 [00:00<?, ?it/s]"
      ]
     },
     "metadata": {},
     "output_type": "display_data"
    }
   ],
   "source": [
    "df['neu_sent_avg'] = df['text'].swifter.allow_dask_on_strings(True).apply(lambda x: analyze_sentence_average(x)['neu'])"
   ]
  },
  {
   "cell_type": "code",
   "execution_count": 11,
   "id": "b91ce0e1-68d4-4e53-8eac-3b363f277de5",
   "metadata": {},
   "outputs": [
    {
     "data": {
      "application/vnd.jupyter.widget-view+json": {
       "model_id": "ad5a46e662084e438122a5d525c15de4",
       "version_major": 2,
       "version_minor": 0
      },
      "text/plain": [
       "Dask Apply:   0%|          | 0/160 [00:00<?, ?it/s]"
      ]
     },
     "metadata": {},
     "output_type": "display_data"
    }
   ],
   "source": [
    "df['pos_sent_avg'] = df['text'].swifter.allow_dask_on_strings(True).apply(lambda x: analyze_sentence_average(x)['pos'])"
   ]
  },
  {
   "cell_type": "code",
   "execution_count": 12,
   "id": "23fcb6ca-c7e9-4ae5-8557-682a0952cbd8",
   "metadata": {},
   "outputs": [
    {
     "data": {
      "application/vnd.jupyter.widget-view+json": {
       "model_id": "45bbb2510dd7441099a15a55e733e4cb",
       "version_major": 2,
       "version_minor": 0
      },
      "text/plain": [
       "Dask Apply:   0%|          | 0/160 [00:00<?, ?it/s]"
      ]
     },
     "metadata": {},
     "output_type": "display_data"
    }
   ],
   "source": [
    "df['compound_sent_avg'] = df['text'].swifter.allow_dask_on_strings(True).apply(lambda x: analyze_sentence_average(x)['compound'])"
   ]
  },
  {
   "cell_type": "markdown",
   "id": "370202aa-1d00-4612-93cf-2877d4f51681",
   "metadata": {},
   "source": [
    "## Saving generated scores"
   ]
  },
  {
   "cell_type": "code",
   "execution_count": 13,
   "id": "33824530-c7fe-482a-b99f-9bab29c46bb6",
   "metadata": {},
   "outputs": [
    {
     "name": "stdout",
     "output_type": "stream",
     "text": [
      "Saving Reviews w/ Sentiment...\n",
      "Done\n"
     ]
    }
   ],
   "source": [
    "print(\"Saving Reviews w/ Sentiment...\")\n",
    "df.to_csv(os.path.join(PROCESSED_FOLDER, \"processed_reviews_with_sentiment.csv\"), index=False)\n",
    "print(\"Done\")"
   ]
  },
  {
   "cell_type": "code",
   "execution_count": 14,
   "id": "03b23412-4f4b-421f-9cb1-1ac051ae30cc",
   "metadata": {},
   "outputs": [
    {
     "data": {
      "text/html": [
       "<div>\n",
       "<style scoped>\n",
       "    .dataframe tbody tr th:only-of-type {\n",
       "        vertical-align: middle;\n",
       "    }\n",
       "\n",
       "    .dataframe tbody tr th {\n",
       "        vertical-align: top;\n",
       "    }\n",
       "\n",
       "    .dataframe thead th {\n",
       "        text-align: right;\n",
       "    }\n",
       "</style>\n",
       "<table border=\"1\" class=\"dataframe\">\n",
       "  <thead>\n",
       "    <tr style=\"text-align: right;\">\n",
       "      <th></th>\n",
       "      <th>review_id</th>\n",
       "      <th>user_id</th>\n",
       "      <th>item_id</th>\n",
       "      <th>text</th>\n",
       "      <th>rating</th>\n",
       "      <th>tokenized_text</th>\n",
       "      <th>neg_sent_avg</th>\n",
       "      <th>neu_sent_avg</th>\n",
       "      <th>pos_sent_avg</th>\n",
       "      <th>compound_sent_avg</th>\n",
       "    </tr>\n",
       "  </thead>\n",
       "  <tbody>\n",
       "    <tr>\n",
       "      <th>0</th>\n",
       "      <td>255938</td>\n",
       "      <td>0</td>\n",
       "      <td>1</td>\n",
       "      <td>First things first. My \"reviews\" system is exp...</td>\n",
       "      <td>8</td>\n",
       "      <td>[['First', 'things', 'first', '.'], ['My', '``...</td>\n",
       "      <td>0.073333</td>\n",
       "      <td>0.757708</td>\n",
       "      <td>0.168937</td>\n",
       "      <td>0.208675</td>\n",
       "    </tr>\n",
       "    <tr>\n",
       "      <th>1</th>\n",
       "      <td>259117</td>\n",
       "      <td>1</td>\n",
       "      <td>2</td>\n",
       "      <td>Let me start off by saying that Made in Abyss ...</td>\n",
       "      <td>10</td>\n",
       "      <td>[['Let', 'me', 'start', 'off', 'by', 'saying',...</td>\n",
       "      <td>0.062741</td>\n",
       "      <td>0.759333</td>\n",
       "      <td>0.177963</td>\n",
       "      <td>0.302804</td>\n",
       "    </tr>\n",
       "    <tr>\n",
       "      <th>2</th>\n",
       "      <td>253664</td>\n",
       "      <td>2</td>\n",
       "      <td>3</td>\n",
       "      <td>Art 9/10: It is great, especially the actions ...</td>\n",
       "      <td>7</td>\n",
       "      <td>[['Art', '9/10', ':', 'It', 'is', 'great', ','...</td>\n",
       "      <td>0.047278</td>\n",
       "      <td>0.792889</td>\n",
       "      <td>0.159833</td>\n",
       "      <td>0.220767</td>\n",
       "    </tr>\n",
       "    <tr>\n",
       "      <th>3</th>\n",
       "      <td>247454</td>\n",
       "      <td>3</td>\n",
       "      <td>4</td>\n",
       "      <td>As someone who loves Studio Ghibli and its mov...</td>\n",
       "      <td>6</td>\n",
       "      <td>[['As', 'someone', 'who', 'loves', 'Studio', '...</td>\n",
       "      <td>0.055577</td>\n",
       "      <td>0.809192</td>\n",
       "      <td>0.135269</td>\n",
       "      <td>0.187896</td>\n",
       "    </tr>\n",
       "    <tr>\n",
       "      <th>4</th>\n",
       "      <td>23791</td>\n",
       "      <td>4</td>\n",
       "      <td>5</td>\n",
       "      <td>code geass is one of those series that everybo...</td>\n",
       "      <td>10</td>\n",
       "      <td>[['code', 'geass', 'is', 'one', 'of', 'those',...</td>\n",
       "      <td>0.028857</td>\n",
       "      <td>0.723000</td>\n",
       "      <td>0.248143</td>\n",
       "      <td>0.534129</td>\n",
       "    </tr>\n",
       "  </tbody>\n",
       "</table>\n",
       "</div>"
      ],
      "text/plain": [
       "   review_id  user_id  item_id  \\\n",
       "0     255938        0        1   \n",
       "1     259117        1        2   \n",
       "2     253664        2        3   \n",
       "3     247454        3        4   \n",
       "4      23791        4        5   \n",
       "\n",
       "                                                text  rating  \\\n",
       "0  First things first. My \"reviews\" system is exp...       8   \n",
       "1  Let me start off by saying that Made in Abyss ...      10   \n",
       "2  Art 9/10: It is great, especially the actions ...       7   \n",
       "3  As someone who loves Studio Ghibli and its mov...       6   \n",
       "4  code geass is one of those series that everybo...      10   \n",
       "\n",
       "                                      tokenized_text  neg_sent_avg  \\\n",
       "0  [['First', 'things', 'first', '.'], ['My', '``...      0.073333   \n",
       "1  [['Let', 'me', 'start', 'off', 'by', 'saying',...      0.062741   \n",
       "2  [['Art', '9/10', ':', 'It', 'is', 'great', ','...      0.047278   \n",
       "3  [['As', 'someone', 'who', 'loves', 'Studio', '...      0.055577   \n",
       "4  [['code', 'geass', 'is', 'one', 'of', 'those',...      0.028857   \n",
       "\n",
       "   neu_sent_avg  pos_sent_avg  compound_sent_avg  \n",
       "0      0.757708      0.168937           0.208675  \n",
       "1      0.759333      0.177963           0.302804  \n",
       "2      0.792889      0.159833           0.220767  \n",
       "3      0.809192      0.135269           0.187896  \n",
       "4      0.723000      0.248143           0.534129  "
      ]
     },
     "execution_count": 14,
     "metadata": {},
     "output_type": "execute_result"
    }
   ],
   "source": [
    "pd.read_csv(os.path.join(PROCESSED_FOLDER, \"processed_reviews_with_sentiment.csv\")).head()"
   ]
  },
  {
   "cell_type": "markdown",
   "id": "659d30d9-4ca7-44f3-8c00-a47d08445af2",
   "metadata": {},
   "source": [
    "## Plot Helpers"
   ]
  },
  {
   "cell_type": "code",
   "execution_count": 15,
   "id": "350e8359-9c1a-4d04-944d-cb0fd3eca82a",
   "metadata": {},
   "outputs": [],
   "source": [
    "def regplot_helper(df, x, y, x_bins):   \n",
    "    corr = df[x].corr(df[y])\n",
    "    r_squared = corr**2\n",
    "    \n",
    "    p = sns.regplot(x=x, y=y, data=df, x_bins=x_bins, line_kws={\n",
    "        'label': f\"r = {round(corr, 3)}\\nr^2={round(r_squared, 3)}\",\n",
    "    })\n",
    "    p.set(title=f\"{y} vs {x}\")\n",
    "    plt.legend()\n",
    "    return p"
   ]
  },
  {
   "cell_type": "markdown",
   "id": "a3e2faa6-adde-4d29-8a63-641ea361aeaa",
   "metadata": {
    "tags": []
   },
   "source": [
    "## Review Rating vs Negative Sentiment"
   ]
  },
  {
   "cell_type": "code",
   "execution_count": 16,
   "id": "e4f1022c-eaba-492b-afde-861f85fd5f5a",
   "metadata": {},
   "outputs": [
    {
     "data": {
      "image/png": "[encoded data removed]",
      "text/plain": [
       "<Figure size 432x288 with 1 Axes>"
      ]
     },
     "metadata": {},
     "output_type": "display_data"
    }
   ],
   "source": [
    "p = regplot_helper(df, 'neg_sent_avg', 'rating', x_bins=50)\n",
    "plt.savefig('./plots/neg_sent_avg.png', dpi=150)"
   ]
  },
  {
   "cell_type": "markdown",
   "id": "a26c39d0-9b33-478f-8024-3963b0899efb",
   "metadata": {},
   "source": [
    "## Review Rating vs Neutral Sentiment"
   ]
  },
  {
   "cell_type": "code",
   "execution_count": 17,
   "id": "e394dfe0-a044-4282-9834-6da84de935dd",
   "metadata": {},
   "outputs": [
    {
     "data": {
      "image/png": "[encoded data removed]",
      "text/plain": [
       "<Figure size 432x288 with 1 Axes>"
      ]
     },
     "metadata": {},
     "output_type": "display_data"
    }
   ],
   "source": [
    "p = regplot_helper(df, 'neu_sent_avg', 'rating', x_bins=50)"
   ]
  },
  {
   "cell_type": "markdown",
   "id": "b6733ce4-c112-49e3-993a-4b78606f16a0",
   "metadata": {},
   "source": [
    "## Review Rating vs Positive Sentiment"
   ]
  },
  {
   "cell_type": "code",
   "execution_count": 18,
   "id": "db1f2f87-42ae-44c1-915c-ec8d4658f929",
   "metadata": {},
   "outputs": [
    {
     "data": {
      "image/png": "[encoded data removed]",
      "text/plain": [
       "<Figure size 432x288 with 1 Axes>"
      ]
     },
     "metadata": {},
     "output_type": "display_data"
    }
   ],
   "source": [
    "p = regplot_helper(df, 'pos_sent_avg', 'rating', x_bins=50)\n",
    "plt.savefig('./plots/pos_sent_avg.png', dpi=150)"
   ]
  },
  {
   "cell_type": "markdown",
   "id": "10c1280e-ed28-4a33-ab71-e8c01ed6790d",
   "metadata": {},
   "source": [
    "## Review Rating vs Compound Sentiment"
   ]
  },
  {
   "cell_type": "code",
   "execution_count": 20,
   "id": "22346162-f6c8-4cb1-afc5-898456aabdb6",
   "metadata": {},
   "outputs": [
    {
     "data": {
      "image/png": "[encoded data removed]",
      "text/plain": [
       "<Figure size 432x288 with 1 Axes>"
      ]
     },
     "metadata": {},
     "output_type": "display_data"
    }
   ],
   "source": [
    "p = regplot_helper(df, 'compound_sent_avg', 'rating', x_bins=50)\n",
    "plt.savefig('./plots/compound_sent_avg.png', dpi=150)"
   ]
  },
  {
   "cell_type": "markdown",
   "id": "9d2bd8d9-e135-4ff5-8a89-ae7ed3bf6510",
   "metadata": {},
   "source": [
    "## Wrap-up, using all three factors"
   ]
  },
  {
   "cell_type": "code",
   "execution_count": 21,
   "id": "f40a8108-82d3-42b2-ac40-33cada8f59c8",
   "metadata": {},
   "outputs": [
    {
     "data": {
      "text/plain": [
       "0.26476864001262146"
      ]
     },
     "execution_count": 21,
     "metadata": {},
     "output_type": "execute_result"
    }
   ],
   "source": [
    "X = df[['neg_sent_avg', 'pos_sent_avg', 'compound_sent_avg']]\n",
    "y = df['rating']\n",
    "reg = LinearRegression().fit(X, y)\n",
    "reg.score(X, y)"
   ]
  },
  {
   "cell_type": "markdown",
   "id": "673f2fe4-55ae-4c34-8d01-c0f0d82d8968",
   "metadata": {},
   "source": [
    "### P-value is extremely significant"
   ]
  },
  {
   "cell_type": "code",
   "execution_count": 22,
   "id": "c6fb2dec-2074-453e-884a-51268c5da4dd",
   "metadata": {},
   "outputs": [],
   "source": [
    "model = smf.ols('rating ~ neg_sent_avg + pos_sent_avg + compound_sent_avg', data=df)\n",
    "fit = model.fit()"
   ]
  },
  {
   "cell_type": "code",
   "execution_count": 23,
   "id": "e71e0fa0-0e98-4b6f-aaac-900dea358e98",
   "metadata": {},
   "outputs": [
    {
     "data": {
      "text/html": [
       "<table class=\"simpletable\">\n",
       "<caption>OLS Regression Results</caption>\n",
       "<tr>\n",
       "  <th>Dep. Variable:</th>         <td>rating</td>      <th>  R-squared:         </th> <td>   0.265</td> \n",
       "</tr>\n",
       "<tr>\n",
       "  <th>Model:</th>                   <td>OLS</td>       <th>  Adj. R-squared:    </th> <td>   0.265</td> \n",
       "</tr>\n",
       "<tr>\n",
       "  <th>Method:</th>             <td>Least Squares</td>  <th>  F-statistic:       </th> <td>   4274.</td> \n",
       "</tr>\n",
       "<tr>\n",
       "  <th>Date:</th>             <td>Tue, 03 May 2022</td> <th>  Prob (F-statistic):</th>  <td>  0.00</td>  \n",
       "</tr>\n",
       "<tr>\n",
       "  <th>Time:</th>                 <td>02:43:33</td>     <th>  Log-Likelihood:    </th> <td> -72754.</td> \n",
       "</tr>\n",
       "<tr>\n",
       "  <th>No. Observations:</th>      <td> 35612</td>      <th>  AIC:               </th> <td>1.455e+05</td>\n",
       "</tr>\n",
       "<tr>\n",
       "  <th>Df Residuals:</th>          <td> 35608</td>      <th>  BIC:               </th> <td>1.455e+05</td>\n",
       "</tr>\n",
       "<tr>\n",
       "  <th>Df Model:</th>              <td>     3</td>      <th>                     </th>     <td> </td>    \n",
       "</tr>\n",
       "<tr>\n",
       "  <th>Covariance Type:</th>      <td>nonrobust</td>    <th>                     </th>     <td> </td>    \n",
       "</tr>\n",
       "</table>\n",
       "<table class=\"simpletable\">\n",
       "<tr>\n",
       "          <td></td>             <th>coef</th>     <th>std err</th>      <th>t</th>      <th>P>|t|</th>  <th>[0.025</th>    <th>0.975]</th>  \n",
       "</tr>\n",
       "<tr>\n",
       "  <th>Intercept</th>         <td>    6.7643</td> <td>    0.044</td> <td>  152.094</td> <td> 0.000</td> <td>    6.677</td> <td>    6.851</td>\n",
       "</tr>\n",
       "<tr>\n",
       "  <th>neg_sent_avg</th>      <td>  -15.6738</td> <td>    0.404</td> <td>  -38.840</td> <td> 0.000</td> <td>  -16.465</td> <td>  -14.883</td>\n",
       "</tr>\n",
       "<tr>\n",
       "  <th>pos_sent_avg</th>      <td>    7.2892</td> <td>    0.297</td> <td>   24.579</td> <td> 0.000</td> <td>    6.708</td> <td>    7.871</td>\n",
       "</tr>\n",
       "<tr>\n",
       "  <th>compound_sent_avg</th> <td>    1.9478</td> <td>    0.108</td> <td>   17.965</td> <td> 0.000</td> <td>    1.735</td> <td>    2.160</td>\n",
       "</tr>\n",
       "</table>\n",
       "<table class=\"simpletable\">\n",
       "<tr>\n",
       "  <th>Omnibus:</th>       <td>789.784</td> <th>  Durbin-Watson:     </th> <td>   1.632</td> \n",
       "</tr>\n",
       "<tr>\n",
       "  <th>Prob(Omnibus):</th> <td> 0.000</td>  <th>  Jarque-Bera (JB):  </th> <td> 843.106</td> \n",
       "</tr>\n",
       "<tr>\n",
       "  <th>Skew:</th>          <td>-0.371</td>  <th>  Prob(JB):          </th> <td>8.35e-184</td>\n",
       "</tr>\n",
       "<tr>\n",
       "  <th>Kurtosis:</th>      <td> 3.133</td>  <th>  Cond. No.          </th> <td>    44.8</td> \n",
       "</tr>\n",
       "</table><br/><br/>Notes:<br/>[1] Standard Errors assume that the covariance matrix of the errors is correctly specified."
      ],
      "text/plain": [
       "<class 'statsmodels.iolib.summary.Summary'>\n",
       "\"\"\"\n",
       "                            OLS Regression Results                            \n",
       "==============================================================================\n",
       "Dep. Variable:                 rating   R-squared:                       0.265\n",
       "Model:                            OLS   Adj. R-squared:                  0.265\n",
       "Method:                 Least Squares   F-statistic:                     4274.\n",
       "Date:                Tue, 03 May 2022   Prob (F-statistic):               0.00\n",
       "Time:                        02:43:33   Log-Likelihood:                -72754.\n",
       "No. Observations:               35612   AIC:                         1.455e+05\n",
       "Df Residuals:                   35608   BIC:                         1.455e+05\n",
       "Df Model:                           3                                         \n",
       "Covariance Type:            nonrobust                                         \n",
       "=====================================================================================\n",
       "                        coef    std err          t      P>|t|      [0.025      0.975]\n",
       "-------------------------------------------------------------------------------------\n",
       "Intercept             6.7643      0.044    152.094      0.000       6.677       6.851\n",
       "neg_sent_avg        -15.6738      0.404    -38.840      0.000     -16.465     -14.883\n",
       "pos_sent_avg          7.2892      0.297     24.579      0.000       6.708       7.871\n",
       "compound_sent_avg     1.9478      0.108     17.965      0.000       1.735       2.160\n",
       "==============================================================================\n",
       "Omnibus:                      789.784   Durbin-Watson:                   1.632\n",
       "Prob(Omnibus):                  0.000   Jarque-Bera (JB):              843.106\n",
       "Skew:                          -0.371   Prob(JB):                    8.35e-184\n",
       "Kurtosis:                       3.133   Cond. No.                         44.8\n",
       "==============================================================================\n",
       "\n",
       "Notes:\n",
       "[1] Standard Errors assume that the covariance matrix of the errors is correctly specified.\n",
       "\"\"\""
      ]
     },
     "execution_count": 23,
     "metadata": {},
     "output_type": "execute_result"
    }
   ],
   "source": [
    "fit.summary()"
   ]
  },
  {
   "cell_type": "code",
   "execution_count": 24,
   "id": "c04727ea-b115-4864-a308-a4cb58cb45e7",
   "metadata": {},
   "outputs": [
    {
     "data": {
      "text/plain": [
       "Intercept             0.000000e+00\n",
       "neg_sent_avg          0.000000e+00\n",
       "pos_sent_avg         2.698473e-132\n",
       "compound_sent_avg     7.579168e-72\n",
       "dtype: float64"
      ]
     },
     "execution_count": 24,
     "metadata": {},
     "output_type": "execute_result"
    }
   ],
   "source": [
    "fit.pvalues"
   ]
  },
  {
   "cell_type": "markdown",
   "id": "4c189fd2-6007-457c-be32-08dce737135d",
   "metadata": {},
   "source": [
    "## User Similarity"
   ]
  },
  {
   "cell_type": "code",
   "execution_count": null,
   "id": "5b90cd82-449d-49f4-b50d-d8d1d0521e73",
   "metadata": {},
   "outputs": [],
   "source": []
  }
 ],
 "metadata": {
  "kernelspec": {
   "display_name": "nlp",
   "language": "python",
   "name": "nlp"
  },
  "language_info": {
   "codemirror_mode": {
    "name": "ipython",
    "version": 3
   },
   "file_extension": ".py",
   "mimetype": "text/x-python",
   "name": "python",
   "nbconvert_exporter": "python",
   "pygments_lexer": "ipython3",
   "version": "3.9.7"
  }
 },
 "nbformat": 4,
 "nbformat_minor": 5
}
