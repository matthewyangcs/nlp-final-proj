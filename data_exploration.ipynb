{
 "cells": [
  {
   "cell_type": "code",
   "execution_count": 5,
   "id": "1500f7e5-e332-4821-888c-45281e0be5dd",
   "metadata": {},
   "outputs": [],
   "source": [
    "%load_ext autoreload\n",
    "%autoreload 2"
   ]
  },
  {
   "cell_type": "code",
   "execution_count": 27,
   "id": "d101a72d-8c00-402c-b043-78afa5cbf384",
   "metadata": {},
   "outputs": [],
   "source": [
    "import pandas as pd\n",
    "import json\n",
    "import os\n",
    "from collections import Counter"
   ]
  },
  {
   "cell_type": "markdown",
   "id": "3882d969-cc2d-4af5-99c9-3ce26a1e652c",
   "metadata": {},
   "source": [
    "# Raw Data"
   ]
  },
  {
   "cell_type": "code",
   "execution_count": 10,
   "id": "76907e5a-b1cc-4ad9-8560-cadade5ae22d",
   "metadata": {},
   "outputs": [],
   "source": [
    "# Paths\n",
    "RAW_FOLDER = './data/raw/'\n",
    "ANIME_FILE = 'animes.csv'\n",
    "PROFILES_FILE = 'profiles.csv'\n",
    "REVIEWS_FILE = 'reviews.csv'"
   ]
  },
  {
   "cell_type": "code",
   "execution_count": 16,
   "id": "b798fc94-88e0-43f0-bcb9-282d87b34d0c",
   "metadata": {},
   "outputs": [],
   "source": [
    "animes = pd.read_csv(os.path.join(RAW_FOLDER, ANIME_FILE))\n",
    "users = pd.read_csv(os.path.join(RAW_FOLDER, PROFILES_FILE))\n",
    "reviews = pd.read_csv(os.path.join(RAW_FOLDER, REVIEWS_FILE))"
   ]
  },
  {
   "cell_type": "code",
   "execution_count": 17,
   "id": "eaa2d982-62f8-4e6e-83f5-249b817e1562",
   "metadata": {},
   "outputs": [
    {
     "name": "stdout",
     "output_type": "stream",
     "text": [
      "# Anime: 19311\n",
      "# Users: 81727\n",
      "# Reviews: 192112\n"
     ]
    }
   ],
   "source": [
    "# Raw Dataset Statistics\n",
    "print(f\"# Anime: {len(animes)}\")\n",
    "print(f\"# Users: {len(users)}\")\n",
    "print(f\"# Reviews: {len(reviews)}\")"
   ]
  },
  {
   "cell_type": "code",
   "execution_count": 18,
   "id": "df1a6654-ccd1-45f0-9f14-dc2846efe98b",
   "metadata": {},
   "outputs": [
    {
     "data": {
      "text/html": [
       "<div>\n",
       "<style scoped>\n",
       "    .dataframe tbody tr th:only-of-type {\n",
       "        vertical-align: middle;\n",
       "    }\n",
       "\n",
       "    .dataframe tbody tr th {\n",
       "        vertical-align: top;\n",
       "    }\n",
       "\n",
       "    .dataframe thead th {\n",
       "        text-align: right;\n",
       "    }\n",
       "</style>\n",
       "<table border=\"1\" class=\"dataframe\">\n",
       "  <thead>\n",
       "    <tr style=\"text-align: right;\">\n",
       "      <th></th>\n",
       "      <th>profile</th>\n",
       "      <th>gender</th>\n",
       "      <th>birthday</th>\n",
       "      <th>favorites_anime</th>\n",
       "      <th>link</th>\n",
       "    </tr>\n",
       "  </thead>\n",
       "  <tbody>\n",
       "    <tr>\n",
       "      <th>0</th>\n",
       "      <td>DesolatePsyche</td>\n",
       "      <td>Male</td>\n",
       "      <td>Oct 2, 1994</td>\n",
       "      <td>['33352', '25013', '5530', '33674', '1482', '2...</td>\n",
       "      <td>https://myanimelist.net/profile/DesolatePsyche</td>\n",
       "    </tr>\n",
       "    <tr>\n",
       "      <th>1</th>\n",
       "      <td>baekbeans</td>\n",
       "      <td>Female</td>\n",
       "      <td>Nov 10, 2000</td>\n",
       "      <td>['11061', '31964', '853', '20583', '918', '925...</td>\n",
       "      <td>https://myanimelist.net/profile/baekbeans</td>\n",
       "    </tr>\n",
       "    <tr>\n",
       "      <th>2</th>\n",
       "      <td>skrn</td>\n",
       "      <td>NaN</td>\n",
       "      <td>NaN</td>\n",
       "      <td>['918', '2904', '11741', '17074', '23273', '32...</td>\n",
       "      <td>https://myanimelist.net/profile/skrn</td>\n",
       "    </tr>\n",
       "    <tr>\n",
       "      <th>3</th>\n",
       "      <td>edgewalker00</td>\n",
       "      <td>Male</td>\n",
       "      <td>Sep 5</td>\n",
       "      <td>['5680', '849', '2904', '3588', '37349']</td>\n",
       "      <td>https://myanimelist.net/profile/edgewalker00</td>\n",
       "    </tr>\n",
       "    <tr>\n",
       "      <th>4</th>\n",
       "      <td>aManOfCulture99</td>\n",
       "      <td>Male</td>\n",
       "      <td>Oct 30, 1999</td>\n",
       "      <td>['4181', '7791', '9617', '5680', '2167', '4382...</td>\n",
       "      <td>https://myanimelist.net/profile/aManOfCulture99</td>\n",
       "    </tr>\n",
       "  </tbody>\n",
       "</table>\n",
       "</div>"
      ],
      "text/plain": [
       "           profile  gender      birthday  \\\n",
       "0   DesolatePsyche    Male   Oct 2, 1994   \n",
       "1        baekbeans  Female  Nov 10, 2000   \n",
       "2             skrn     NaN           NaN   \n",
       "3     edgewalker00    Male         Sep 5   \n",
       "4  aManOfCulture99    Male  Oct 30, 1999   \n",
       "\n",
       "                                     favorites_anime  \\\n",
       "0  ['33352', '25013', '5530', '33674', '1482', '2...   \n",
       "1  ['11061', '31964', '853', '20583', '918', '925...   \n",
       "2  ['918', '2904', '11741', '17074', '23273', '32...   \n",
       "3           ['5680', '849', '2904', '3588', '37349']   \n",
       "4  ['4181', '7791', '9617', '5680', '2167', '4382...   \n",
       "\n",
       "                                              link  \n",
       "0   https://myanimelist.net/profile/DesolatePsyche  \n",
       "1        https://myanimelist.net/profile/baekbeans  \n",
       "2             https://myanimelist.net/profile/skrn  \n",
       "3     https://myanimelist.net/profile/edgewalker00  \n",
       "4  https://myanimelist.net/profile/aManOfCulture99  "
      ]
     },
     "execution_count": 18,
     "metadata": {},
     "output_type": "execute_result"
    }
   ],
   "source": [
    "users.head()"
   ]
  },
  {
   "cell_type": "code",
   "execution_count": 21,
   "id": "ca9ee350-b53f-403f-b984-05ae4d0c96c0",
   "metadata": {},
   "outputs": [
    {
     "data": {
      "text/plain": [
       "47885"
      ]
     },
     "execution_count": 21,
     "metadata": {},
     "output_type": "execute_result"
    }
   ],
   "source": [
    "len(reviews['profile'].unique())"
   ]
  },
  {
   "cell_type": "code",
   "execution_count": 22,
   "id": "8fa9e3bb-e254-44a3-99a8-f2997cfc50e2",
   "metadata": {},
   "outputs": [
    {
     "data": {
      "text/html": [
       "<div>\n",
       "<style scoped>\n",
       "    .dataframe tbody tr th:only-of-type {\n",
       "        vertical-align: middle;\n",
       "    }\n",
       "\n",
       "    .dataframe tbody tr th {\n",
       "        vertical-align: top;\n",
       "    }\n",
       "\n",
       "    .dataframe thead th {\n",
       "        text-align: right;\n",
       "    }\n",
       "</style>\n",
       "<table border=\"1\" class=\"dataframe\">\n",
       "  <thead>\n",
       "    <tr style=\"text-align: right;\">\n",
       "      <th></th>\n",
       "      <th>uid</th>\n",
       "      <th>profile</th>\n",
       "      <th>anime_uid</th>\n",
       "      <th>text</th>\n",
       "      <th>score</th>\n",
       "      <th>scores</th>\n",
       "      <th>link</th>\n",
       "    </tr>\n",
       "  </thead>\n",
       "  <tbody>\n",
       "    <tr>\n",
       "      <th>0</th>\n",
       "      <td>255938</td>\n",
       "      <td>DesolatePsyche</td>\n",
       "      <td>34096</td>\n",
       "      <td>\\n           \\n         \\n           \\n       ...</td>\n",
       "      <td>8</td>\n",
       "      <td>{'Overall': '8', 'Story': '8', 'Animation': '8...</td>\n",
       "      <td>https://myanimelist.net/reviews.php?id=255938</td>\n",
       "    </tr>\n",
       "    <tr>\n",
       "      <th>1</th>\n",
       "      <td>259117</td>\n",
       "      <td>baekbeans</td>\n",
       "      <td>34599</td>\n",
       "      <td>\\n           \\n         \\n           \\n       ...</td>\n",
       "      <td>10</td>\n",
       "      <td>{'Overall': '10', 'Story': '10', 'Animation': ...</td>\n",
       "      <td>https://myanimelist.net/reviews.php?id=259117</td>\n",
       "    </tr>\n",
       "    <tr>\n",
       "      <th>2</th>\n",
       "      <td>253664</td>\n",
       "      <td>skrn</td>\n",
       "      <td>28891</td>\n",
       "      <td>\\n           \\n         \\n           \\n       ...</td>\n",
       "      <td>7</td>\n",
       "      <td>{'Overall': '7', 'Story': '7', 'Animation': '9...</td>\n",
       "      <td>https://myanimelist.net/reviews.php?id=253664</td>\n",
       "    </tr>\n",
       "    <tr>\n",
       "      <th>3</th>\n",
       "      <td>8254</td>\n",
       "      <td>edgewalker00</td>\n",
       "      <td>2904</td>\n",
       "      <td>\\n           \\n         \\n           \\n       ...</td>\n",
       "      <td>9</td>\n",
       "      <td>{'Overall': '9', 'Story': '9', 'Animation': '9...</td>\n",
       "      <td>https://myanimelist.net/reviews.php?id=8254</td>\n",
       "    </tr>\n",
       "    <tr>\n",
       "      <th>4</th>\n",
       "      <td>291149</td>\n",
       "      <td>aManOfCulture99</td>\n",
       "      <td>4181</td>\n",
       "      <td>\\n           \\n         \\n           \\n       ...</td>\n",
       "      <td>10</td>\n",
       "      <td>{'Overall': '10', 'Story': '10', 'Animation': ...</td>\n",
       "      <td>https://myanimelist.net/reviews.php?id=291149</td>\n",
       "    </tr>\n",
       "  </tbody>\n",
       "</table>\n",
       "</div>"
      ],
      "text/plain": [
       "      uid          profile  anime_uid  \\\n",
       "0  255938   DesolatePsyche      34096   \n",
       "1  259117        baekbeans      34599   \n",
       "2  253664             skrn      28891   \n",
       "3    8254     edgewalker00       2904   \n",
       "4  291149  aManOfCulture99       4181   \n",
       "\n",
       "                                                text  score  \\\n",
       "0  \\n           \\n         \\n           \\n       ...      8   \n",
       "1  \\n           \\n         \\n           \\n       ...     10   \n",
       "2  \\n           \\n         \\n           \\n       ...      7   \n",
       "3  \\n           \\n         \\n           \\n       ...      9   \n",
       "4  \\n           \\n         \\n           \\n       ...     10   \n",
       "\n",
       "                                              scores  \\\n",
       "0  {'Overall': '8', 'Story': '8', 'Animation': '8...   \n",
       "1  {'Overall': '10', 'Story': '10', 'Animation': ...   \n",
       "2  {'Overall': '7', 'Story': '7', 'Animation': '9...   \n",
       "3  {'Overall': '9', 'Story': '9', 'Animation': '9...   \n",
       "4  {'Overall': '10', 'Story': '10', 'Animation': ...   \n",
       "\n",
       "                                            link  \n",
       "0  https://myanimelist.net/reviews.php?id=255938  \n",
       "1  https://myanimelist.net/reviews.php?id=259117  \n",
       "2  https://myanimelist.net/reviews.php?id=253664  \n",
       "3    https://myanimelist.net/reviews.php?id=8254  \n",
       "4  https://myanimelist.net/reviews.php?id=291149  "
      ]
     },
     "execution_count": 22,
     "metadata": {},
     "output_type": "execute_result"
    }
   ],
   "source": [
    "reviews.head()"
   ]
  },
  {
   "cell_type": "code",
   "execution_count": 31,
   "id": "c2db2150-d8fe-413f-9507-222b0e481da4",
   "metadata": {},
   "outputs": [],
   "source": [
    "df = users[users['profile']=='DesolatePsyche']"
   ]
  },
  {
   "cell_type": "code",
   "execution_count": 35,
   "id": "cec890cd-f980-4ecc-99d5-6c028702e4bd",
   "metadata": {},
   "outputs": [
    {
     "data": {
      "text/plain": [
       "130519"
      ]
     },
     "execution_count": 35,
     "metadata": {},
     "output_type": "execute_result"
    }
   ],
   "source": [
    "len(reviews['uid'].unique())"
   ]
  },
  {
   "cell_type": "code",
   "execution_count": 36,
   "id": "0b0ace02-be96-479a-9a39-7e33b5a8ff4d",
   "metadata": {},
   "outputs": [
    {
     "data": {
      "text/plain": [
       "192112"
      ]
     },
     "execution_count": 36,
     "metadata": {},
     "output_type": "execute_result"
    }
   ],
   "source": [
    "len(reviews)"
   ]
  },
  {
   "cell_type": "code",
   "execution_count": 37,
   "id": "e64c3803-2742-4e9b-9d43-15fe6146a73a",
   "metadata": {},
   "outputs": [
    {
     "data": {
      "text/html": [
       "<div>\n",
       "<style scoped>\n",
       "    .dataframe tbody tr th:only-of-type {\n",
       "        vertical-align: middle;\n",
       "    }\n",
       "\n",
       "    .dataframe tbody tr th {\n",
       "        vertical-align: top;\n",
       "    }\n",
       "\n",
       "    .dataframe thead th {\n",
       "        text-align: right;\n",
       "    }\n",
       "</style>\n",
       "<table border=\"1\" class=\"dataframe\">\n",
       "  <thead>\n",
       "    <tr style=\"text-align: right;\">\n",
       "      <th></th>\n",
       "      <th>uid</th>\n",
       "      <th>title</th>\n",
       "      <th>synopsis</th>\n",
       "      <th>genre</th>\n",
       "      <th>aired</th>\n",
       "      <th>episodes</th>\n",
       "      <th>members</th>\n",
       "      <th>popularity</th>\n",
       "      <th>ranked</th>\n",
       "      <th>score</th>\n",
       "      <th>img_url</th>\n",
       "      <th>link</th>\n",
       "    </tr>\n",
       "  </thead>\n",
       "  <tbody>\n",
       "    <tr>\n",
       "      <th>0</th>\n",
       "      <td>28891</td>\n",
       "      <td>Haikyuu!! Second Season</td>\n",
       "      <td>Following their participation at the Inter-Hig...</td>\n",
       "      <td>['Comedy', 'Sports', 'Drama', 'School', 'Shoun...</td>\n",
       "      <td>Oct 4, 2015 to Mar 27, 2016</td>\n",
       "      <td>25.0</td>\n",
       "      <td>489888</td>\n",
       "      <td>141</td>\n",
       "      <td>25.0</td>\n",
       "      <td>8.82</td>\n",
       "      <td>https://cdn.myanimelist.net/images/anime/9/766...</td>\n",
       "      <td>https://myanimelist.net/anime/28891/Haikyuu_Se...</td>\n",
       "    </tr>\n",
       "    <tr>\n",
       "      <th>1</th>\n",
       "      <td>23273</td>\n",
       "      <td>Shigatsu wa Kimi no Uso</td>\n",
       "      <td>Music accompanies the path of the human metron...</td>\n",
       "      <td>['Drama', 'Music', 'Romance', 'School', 'Shoun...</td>\n",
       "      <td>Oct 10, 2014 to Mar 20, 2015</td>\n",
       "      <td>22.0</td>\n",
       "      <td>995473</td>\n",
       "      <td>28</td>\n",
       "      <td>24.0</td>\n",
       "      <td>8.83</td>\n",
       "      <td>https://cdn.myanimelist.net/images/anime/3/671...</td>\n",
       "      <td>https://myanimelist.net/anime/23273/Shigatsu_w...</td>\n",
       "    </tr>\n",
       "    <tr>\n",
       "      <th>2</th>\n",
       "      <td>34599</td>\n",
       "      <td>Made in Abyss</td>\n",
       "      <td>The Abyss—a gaping chasm stretching down into ...</td>\n",
       "      <td>['Sci-Fi', 'Adventure', 'Mystery', 'Drama', 'F...</td>\n",
       "      <td>Jul 7, 2017 to Sep 29, 2017</td>\n",
       "      <td>13.0</td>\n",
       "      <td>581663</td>\n",
       "      <td>98</td>\n",
       "      <td>23.0</td>\n",
       "      <td>8.83</td>\n",
       "      <td>https://cdn.myanimelist.net/images/anime/6/867...</td>\n",
       "      <td>https://myanimelist.net/anime/34599/Made_in_Abyss</td>\n",
       "    </tr>\n",
       "    <tr>\n",
       "      <th>3</th>\n",
       "      <td>5114</td>\n",
       "      <td>Fullmetal Alchemist: Brotherhood</td>\n",
       "      <td>\"In order for something to be obtained, someth...</td>\n",
       "      <td>['Action', 'Military', 'Adventure', 'Comedy', ...</td>\n",
       "      <td>Apr 5, 2009 to Jul 4, 2010</td>\n",
       "      <td>64.0</td>\n",
       "      <td>1615084</td>\n",
       "      <td>4</td>\n",
       "      <td>1.0</td>\n",
       "      <td>9.23</td>\n",
       "      <td>https://cdn.myanimelist.net/images/anime/1223/...</td>\n",
       "      <td>https://myanimelist.net/anime/5114/Fullmetal_A...</td>\n",
       "    </tr>\n",
       "    <tr>\n",
       "      <th>4</th>\n",
       "      <td>31758</td>\n",
       "      <td>Kizumonogatari III: Reiketsu-hen</td>\n",
       "      <td>After helping revive the legendary vampire Kis...</td>\n",
       "      <td>['Action', 'Mystery', 'Supernatural', 'Vampire']</td>\n",
       "      <td>Jan 6, 2017</td>\n",
       "      <td>1.0</td>\n",
       "      <td>214621</td>\n",
       "      <td>502</td>\n",
       "      <td>22.0</td>\n",
       "      <td>8.83</td>\n",
       "      <td>https://cdn.myanimelist.net/images/anime/3/815...</td>\n",
       "      <td>https://myanimelist.net/anime/31758/Kizumonoga...</td>\n",
       "    </tr>\n",
       "  </tbody>\n",
       "</table>\n",
       "</div>"
      ],
      "text/plain": [
       "     uid                             title  \\\n",
       "0  28891           Haikyuu!! Second Season   \n",
       "1  23273           Shigatsu wa Kimi no Uso   \n",
       "2  34599                     Made in Abyss   \n",
       "3   5114  Fullmetal Alchemist: Brotherhood   \n",
       "4  31758  Kizumonogatari III: Reiketsu-hen   \n",
       "\n",
       "                                            synopsis  \\\n",
       "0  Following their participation at the Inter-Hig...   \n",
       "1  Music accompanies the path of the human metron...   \n",
       "2  The Abyss—a gaping chasm stretching down into ...   \n",
       "3  \"In order for something to be obtained, someth...   \n",
       "4  After helping revive the legendary vampire Kis...   \n",
       "\n",
       "                                               genre  \\\n",
       "0  ['Comedy', 'Sports', 'Drama', 'School', 'Shoun...   \n",
       "1  ['Drama', 'Music', 'Romance', 'School', 'Shoun...   \n",
       "2  ['Sci-Fi', 'Adventure', 'Mystery', 'Drama', 'F...   \n",
       "3  ['Action', 'Military', 'Adventure', 'Comedy', ...   \n",
       "4   ['Action', 'Mystery', 'Supernatural', 'Vampire']   \n",
       "\n",
       "                          aired  episodes  members  popularity  ranked  score  \\\n",
       "0   Oct 4, 2015 to Mar 27, 2016      25.0   489888         141    25.0   8.82   \n",
       "1  Oct 10, 2014 to Mar 20, 2015      22.0   995473          28    24.0   8.83   \n",
       "2   Jul 7, 2017 to Sep 29, 2017      13.0   581663          98    23.0   8.83   \n",
       "3    Apr 5, 2009 to Jul 4, 2010      64.0  1615084           4     1.0   9.23   \n",
       "4                   Jan 6, 2017       1.0   214621         502    22.0   8.83   \n",
       "\n",
       "                                             img_url  \\\n",
       "0  https://cdn.myanimelist.net/images/anime/9/766...   \n",
       "1  https://cdn.myanimelist.net/images/anime/3/671...   \n",
       "2  https://cdn.myanimelist.net/images/anime/6/867...   \n",
       "3  https://cdn.myanimelist.net/images/anime/1223/...   \n",
       "4  https://cdn.myanimelist.net/images/anime/3/815...   \n",
       "\n",
       "                                                link  \n",
       "0  https://myanimelist.net/anime/28891/Haikyuu_Se...  \n",
       "1  https://myanimelist.net/anime/23273/Shigatsu_w...  \n",
       "2  https://myanimelist.net/anime/34599/Made_in_Abyss  \n",
       "3  https://myanimelist.net/anime/5114/Fullmetal_A...  \n",
       "4  https://myanimelist.net/anime/31758/Kizumonoga...  "
      ]
     },
     "execution_count": 37,
     "metadata": {},
     "output_type": "execute_result"
    }
   ],
   "source": [
    "animes.head()"
   ]
  },
  {
   "cell_type": "code",
   "execution_count": 41,
   "id": "38665bc9-589c-42ba-85e2-2ef404cced17",
   "metadata": {},
   "outputs": [
    {
     "data": {
      "text/html": [
       "<div>\n",
       "<style scoped>\n",
       "    .dataframe tbody tr th:only-of-type {\n",
       "        vertical-align: middle;\n",
       "    }\n",
       "\n",
       "    .dataframe tbody tr th {\n",
       "        vertical-align: top;\n",
       "    }\n",
       "\n",
       "    .dataframe thead th {\n",
       "        text-align: right;\n",
       "    }\n",
       "</style>\n",
       "<table border=\"1\" class=\"dataframe\">\n",
       "  <thead>\n",
       "    <tr style=\"text-align: right;\">\n",
       "      <th></th>\n",
       "      <th>uid</th>\n",
       "      <th>profile</th>\n",
       "      <th>anime_uid</th>\n",
       "      <th>text</th>\n",
       "      <th>score</th>\n",
       "      <th>scores</th>\n",
       "      <th>link</th>\n",
       "    </tr>\n",
       "  </thead>\n",
       "  <tbody>\n",
       "    <tr>\n",
       "      <th>0</th>\n",
       "      <td>255938</td>\n",
       "      <td>DesolatePsyche</td>\n",
       "      <td>34096</td>\n",
       "      <td>\\n           \\n         \\n           \\n       ...</td>\n",
       "      <td>8</td>\n",
       "      <td>{'Overall': '8', 'Story': '8', 'Animation': '8...</td>\n",
       "      <td>https://myanimelist.net/reviews.php?id=255938</td>\n",
       "    </tr>\n",
       "    <tr>\n",
       "      <th>1</th>\n",
       "      <td>259117</td>\n",
       "      <td>baekbeans</td>\n",
       "      <td>34599</td>\n",
       "      <td>\\n           \\n         \\n           \\n       ...</td>\n",
       "      <td>10</td>\n",
       "      <td>{'Overall': '10', 'Story': '10', 'Animation': ...</td>\n",
       "      <td>https://myanimelist.net/reviews.php?id=259117</td>\n",
       "    </tr>\n",
       "    <tr>\n",
       "      <th>2</th>\n",
       "      <td>253664</td>\n",
       "      <td>skrn</td>\n",
       "      <td>28891</td>\n",
       "      <td>\\n           \\n         \\n           \\n       ...</td>\n",
       "      <td>7</td>\n",
       "      <td>{'Overall': '7', 'Story': '7', 'Animation': '9...</td>\n",
       "      <td>https://myanimelist.net/reviews.php?id=253664</td>\n",
       "    </tr>\n",
       "    <tr>\n",
       "      <th>3</th>\n",
       "      <td>8254</td>\n",
       "      <td>edgewalker00</td>\n",
       "      <td>2904</td>\n",
       "      <td>\\n           \\n         \\n           \\n       ...</td>\n",
       "      <td>9</td>\n",
       "      <td>{'Overall': '9', 'Story': '9', 'Animation': '9...</td>\n",
       "      <td>https://myanimelist.net/reviews.php?id=8254</td>\n",
       "    </tr>\n",
       "    <tr>\n",
       "      <th>4</th>\n",
       "      <td>291149</td>\n",
       "      <td>aManOfCulture99</td>\n",
       "      <td>4181</td>\n",
       "      <td>\\n           \\n         \\n           \\n       ...</td>\n",
       "      <td>10</td>\n",
       "      <td>{'Overall': '10', 'Story': '10', 'Animation': ...</td>\n",
       "      <td>https://myanimelist.net/reviews.php?id=291149</td>\n",
       "    </tr>\n",
       "  </tbody>\n",
       "</table>\n",
       "</div>"
      ],
      "text/plain": [
       "      uid          profile  anime_uid  \\\n",
       "0  255938   DesolatePsyche      34096   \n",
       "1  259117        baekbeans      34599   \n",
       "2  253664             skrn      28891   \n",
       "3    8254     edgewalker00       2904   \n",
       "4  291149  aManOfCulture99       4181   \n",
       "\n",
       "                                                text  score  \\\n",
       "0  \\n           \\n         \\n           \\n       ...      8   \n",
       "1  \\n           \\n         \\n           \\n       ...     10   \n",
       "2  \\n           \\n         \\n           \\n       ...      7   \n",
       "3  \\n           \\n         \\n           \\n       ...      9   \n",
       "4  \\n           \\n         \\n           \\n       ...     10   \n",
       "\n",
       "                                              scores  \\\n",
       "0  {'Overall': '8', 'Story': '8', 'Animation': '8...   \n",
       "1  {'Overall': '10', 'Story': '10', 'Animation': ...   \n",
       "2  {'Overall': '7', 'Story': '7', 'Animation': '9...   \n",
       "3  {'Overall': '9', 'Story': '9', 'Animation': '9...   \n",
       "4  {'Overall': '10', 'Story': '10', 'Animation': ...   \n",
       "\n",
       "                                            link  \n",
       "0  https://myanimelist.net/reviews.php?id=255938  \n",
       "1  https://myanimelist.net/reviews.php?id=259117  \n",
       "2  https://myanimelist.net/reviews.php?id=253664  \n",
       "3    https://myanimelist.net/reviews.php?id=8254  \n",
       "4  https://myanimelist.net/reviews.php?id=291149  "
      ]
     },
     "execution_count": 41,
     "metadata": {},
     "output_type": "execute_result"
    }
   ],
   "source": [
    "reviews.head()"
   ]
  },
  {
   "cell_type": "code",
   "execution_count": 45,
   "id": "f27f0681-0214-419d-939c-eba48e4ac0c8",
   "metadata": {},
   "outputs": [
    {
     "data": {
      "text/plain": [
       "uid                                                     223847\n",
       "profile                                               Emil5634\n",
       "anime_uid                                                 1281\n",
       "text         \\n           \\n         \\n           \\n       ...\n",
       "score                                                        8\n",
       "scores       {'Overall': '8', 'Story': '4', 'Animation': '2...\n",
       "link             https://myanimelist.net/reviews.php?id=223847\n",
       "Name: 192102, dtype: object"
      ]
     },
     "execution_count": 45,
     "metadata": {},
     "output_type": "execute_result"
    }
   ],
   "source": [
    "reviews.iloc[-10]"
   ]
  },
  {
   "cell_type": "code",
   "execution_count": null,
   "id": "01d5a149-93c9-4438-9a13-d6822afea2bd",
   "metadata": {},
   "outputs": [],
   "source": []
  }
 ],
 "metadata": {
  "kernelspec": {
   "display_name": "nlp",
   "language": "python",
   "name": "nlp"
  },
  "language_info": {
   "codemirror_mode": {
    "name": "ipython",
    "version": 3
   },
   "file_extension": ".py",
   "mimetype": "text/x-python",
   "name": "python",
   "nbconvert_exporter": "python",
   "pygments_lexer": "ipython3",
   "version": "3.9.7"
  }
 },
 "nbformat": 4,
 "nbformat_minor": 5
}
