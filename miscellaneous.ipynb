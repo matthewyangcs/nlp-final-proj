{
 "cells": [
  {
   "cell_type": "code",
   "execution_count": 1,
   "id": "1500f7e5-e332-4821-888c-45281e0be5dd",
   "metadata": {},
   "outputs": [],
   "source": [
    "%load_ext autoreload\n",
    "%autoreload 2"
   ]
  },
  {
   "cell_type": "code",
   "execution_count": 98,
   "id": "d101a72d-8c00-402c-b043-78afa5cbf384",
   "metadata": {},
   "outputs": [],
   "source": [
    "import pandas as pd\n",
    "import numpy as np\n",
    "import json\n",
    "import os\n",
    "from collections import Counter\n",
    "import nltk\n",
    "from nltk.tokenize import word_tokenize, sent_tokenize\n",
    "import re\n",
    "import seaborn as sns\n",
    "import matplotlib.pyplot as plt\n",
    "sns.set_style(\"darkgrid\")"
   ]
  },
  {
   "cell_type": "code",
   "execution_count": 110,
   "id": "794e9428-d7b6-471a-ab72-377596e6bc3e",
   "metadata": {},
   "outputs": [],
   "source": [
    "nltk.download('punkt')"
   ]
  },
  {
   "cell_type": "markdown",
   "id": "3882d969-cc2d-4af5-99c9-3ce26a1e652c",
   "metadata": {},
   "source": [
    "# Raw Anime Data"
   ]
  },
  {
   "cell_type": "code",
   "execution_count": 112,
   "id": "1453753a-c442-4bf8-ab37-844f5468548c",
   "metadata": {},
   "outputs": [
    {
     "data": {
      "text/html": [
       "<div>\n",
       "<style scoped>\n",
       "    .dataframe tbody tr th:only-of-type {\n",
       "        vertical-align: middle;\n",
       "    }\n",
       "\n",
       "    .dataframe tbody tr th {\n",
       "        vertical-align: top;\n",
       "    }\n",
       "\n",
       "    .dataframe thead th {\n",
       "        text-align: right;\n",
       "    }\n",
       "</style>\n",
       "<table border=\"1\" class=\"dataframe\">\n",
       "  <thead>\n",
       "    <tr style=\"text-align: right;\">\n",
       "      <th></th>\n",
       "      <th>profile</th>\n",
       "      <th>gender</th>\n",
       "      <th>birthday</th>\n",
       "      <th>favorites_anime</th>\n",
       "      <th>link</th>\n",
       "    </tr>\n",
       "  </thead>\n",
       "  <tbody>\n",
       "    <tr>\n",
       "      <th>0</th>\n",
       "      <td>DesolatePsyche</td>\n",
       "      <td>Male</td>\n",
       "      <td>Oct 2, 1994</td>\n",
       "      <td>['33352', '25013', '5530', '33674', '1482', '2...</td>\n",
       "      <td>https://myanimelist.net/profile/DesolatePsyche</td>\n",
       "    </tr>\n",
       "    <tr>\n",
       "      <th>1</th>\n",
       "      <td>baekbeans</td>\n",
       "      <td>Female</td>\n",
       "      <td>Nov 10, 2000</td>\n",
       "      <td>['11061', '31964', '853', '20583', '918', '925...</td>\n",
       "      <td>https://myanimelist.net/profile/baekbeans</td>\n",
       "    </tr>\n",
       "    <tr>\n",
       "      <th>2</th>\n",
       "      <td>skrn</td>\n",
       "      <td>NaN</td>\n",
       "      <td>NaN</td>\n",
       "      <td>['918', '2904', '11741', '17074', '23273', '32...</td>\n",
       "      <td>https://myanimelist.net/profile/skrn</td>\n",
       "    </tr>\n",
       "    <tr>\n",
       "      <th>3</th>\n",
       "      <td>edgewalker00</td>\n",
       "      <td>Male</td>\n",
       "      <td>Sep 5</td>\n",
       "      <td>['5680', '849', '2904', '3588', '37349']</td>\n",
       "      <td>https://myanimelist.net/profile/edgewalker00</td>\n",
       "    </tr>\n",
       "    <tr>\n",
       "      <th>4</th>\n",
       "      <td>aManOfCulture99</td>\n",
       "      <td>Male</td>\n",
       "      <td>Oct 30, 1999</td>\n",
       "      <td>['4181', '7791', '9617', '5680', '2167', '4382...</td>\n",
       "      <td>https://myanimelist.net/profile/aManOfCulture99</td>\n",
       "    </tr>\n",
       "    <tr>\n",
       "      <th>...</th>\n",
       "      <td>...</td>\n",
       "      <td>...</td>\n",
       "      <td>...</td>\n",
       "      <td>...</td>\n",
       "      <td>...</td>\n",
       "    </tr>\n",
       "    <tr>\n",
       "      <th>77656</th>\n",
       "      <td>daniel1302</td>\n",
       "      <td>NaN</td>\n",
       "      <td>NaN</td>\n",
       "      <td>[]</td>\n",
       "      <td>https://myanimelist.net/profile/daniel1302</td>\n",
       "    </tr>\n",
       "    <tr>\n",
       "      <th>77657</th>\n",
       "      <td>bridgesams</td>\n",
       "      <td>Male</td>\n",
       "      <td>Jan 1, 2001</td>\n",
       "      <td>['37510', '35180', '30', '31043', '5081', '374...</td>\n",
       "      <td>https://myanimelist.net/profile/bridgesams</td>\n",
       "    </tr>\n",
       "    <tr>\n",
       "      <th>77659</th>\n",
       "      <td>Officer_Anime</td>\n",
       "      <td>NaN</td>\n",
       "      <td>NaN</td>\n",
       "      <td>[]</td>\n",
       "      <td>https://myanimelist.net/profile/Officer_Anime</td>\n",
       "    </tr>\n",
       "    <tr>\n",
       "      <th>77660</th>\n",
       "      <td>Yuez</td>\n",
       "      <td>NaN</td>\n",
       "      <td>NaN</td>\n",
       "      <td>[]</td>\n",
       "      <td>https://myanimelist.net/profile/Yuez</td>\n",
       "    </tr>\n",
       "    <tr>\n",
       "      <th>77662</th>\n",
       "      <td>srry4apologizng</td>\n",
       "      <td>NaN</td>\n",
       "      <td>NaN</td>\n",
       "      <td>[]</td>\n",
       "      <td>https://myanimelist.net/profile/srry4apologizng</td>\n",
       "    </tr>\n",
       "  </tbody>\n",
       "</table>\n",
       "<p>47902 rows × 5 columns</p>\n",
       "</div>"
      ],
      "text/plain": [
       "               profile  gender      birthday  \\\n",
       "0       DesolatePsyche    Male   Oct 2, 1994   \n",
       "1            baekbeans  Female  Nov 10, 2000   \n",
       "2                 skrn     NaN           NaN   \n",
       "3         edgewalker00    Male         Sep 5   \n",
       "4      aManOfCulture99    Male  Oct 30, 1999   \n",
       "...                ...     ...           ...   \n",
       "77656       daniel1302     NaN           NaN   \n",
       "77657       bridgesams    Male   Jan 1, 2001   \n",
       "77659    Officer_Anime     NaN           NaN   \n",
       "77660             Yuez     NaN           NaN   \n",
       "77662  srry4apologizng     NaN           NaN   \n",
       "\n",
       "                                         favorites_anime  \\\n",
       "0      ['33352', '25013', '5530', '33674', '1482', '2...   \n",
       "1      ['11061', '31964', '853', '20583', '918', '925...   \n",
       "2      ['918', '2904', '11741', '17074', '23273', '32...   \n",
       "3               ['5680', '849', '2904', '3588', '37349']   \n",
       "4      ['4181', '7791', '9617', '5680', '2167', '4382...   \n",
       "...                                                  ...   \n",
       "77656                                                 []   \n",
       "77657  ['37510', '35180', '30', '31043', '5081', '374...   \n",
       "77659                                                 []   \n",
       "77660                                                 []   \n",
       "77662                                                 []   \n",
       "\n",
       "                                                  link  \n",
       "0       https://myanimelist.net/profile/DesolatePsyche  \n",
       "1            https://myanimelist.net/profile/baekbeans  \n",
       "2                 https://myanimelist.net/profile/skrn  \n",
       "3         https://myanimelist.net/profile/edgewalker00  \n",
       "4      https://myanimelist.net/profile/aManOfCulture99  \n",
       "...                                                ...  \n",
       "77656       https://myanimelist.net/profile/daniel1302  \n",
       "77657       https://myanimelist.net/profile/bridgesams  \n",
       "77659    https://myanimelist.net/profile/Officer_Anime  \n",
       "77660             https://myanimelist.net/profile/Yuez  \n",
       "77662  https://myanimelist.net/profile/srry4apologizng  \n",
       "\n",
       "[47902 rows x 5 columns]"
      ]
     },
     "execution_count": 112,
     "metadata": {},
     "output_type": "execute_result"
    }
   ],
   "source": [
    "users"
   ]
  },
  {
   "cell_type": "markdown",
   "id": "c250eccf-ddc0-43f1-beea-1c356039620a",
   "metadata": {},
   "source": [
    "## Loading and Dropping Duplicates"
   ]
  },
  {
   "cell_type": "code",
   "execution_count": 51,
   "id": "76907e5a-b1cc-4ad9-8560-cadade5ae22d",
   "metadata": {},
   "outputs": [],
   "source": [
    "# Paths\n",
    "RAW_FOLDER = './data/raw/'\n",
    "ANIME_FILE = 'animes.csv'\n",
    "PROFILES_FILE = 'profiles.csv'\n",
    "REVIEWS_FILE = 'reviews.csv'"
   ]
  },
  {
   "cell_type": "code",
   "execution_count": 52,
   "id": "b798fc94-88e0-43f0-bcb9-282d87b34d0c",
   "metadata": {},
   "outputs": [],
   "source": [
    "anime = pd.read_csv(os.path.join(RAW_FOLDER, ANIME_FILE))\n",
    "users = pd.read_csv(os.path.join(RAW_FOLDER, PROFILES_FILE))\n",
    "reviews = pd.read_csv(os.path.join(RAW_FOLDER, REVIEWS_FILE))"
   ]
  },
  {
   "cell_type": "code",
   "execution_count": 53,
   "id": "ed0a39ac-12fc-4b35-868c-0d6f175730ee",
   "metadata": {},
   "outputs": [],
   "source": [
    "anime = anime.drop_duplicates()\n",
    "users = users.drop_duplicates()\n",
    "reviews = reviews.drop_duplicates()"
   ]
  },
  {
   "cell_type": "code",
   "execution_count": 111,
   "id": "65bbd970-ef64-4f7a-a5b1-f57f3f5a649a",
   "metadata": {},
   "outputs": [
    {
     "name": "stdout",
     "output_type": "stream",
     "text": [
      "# Anime: 16368\n",
      "# Users: 47902\n",
      "# Reviews: 130519\n"
     ]
    }
   ],
   "source": [
    "# Raw Dataset Statistics\n",
    "print(f\"# Anime: {len(anime)}\")\n",
    "print(f\"# Users: {len(users)}\")\n",
    "print(f\"# Reviews: {len(reviews)}\")\n",
    "assert len(users['profile'].unique()) == len(reviews['profile'].unique())"
   ]
  },
  {
   "cell_type": "markdown",
   "id": "ecf967a9-cd85-4d6a-acd5-d09f860fc4fb",
   "metadata": {},
   "source": [
    "## Distribution of Reviews by Anime"
   ]
  },
  {
   "cell_type": "code",
   "execution_count": 81,
   "id": "2aa79fee-80ea-4f7e-93e8-f06d863a797d",
   "metadata": {},
   "outputs": [],
   "source": [
    "anime_counts = Counter(reviews['anime_uid']).values()"
   ]
  },
  {
   "cell_type": "code",
   "execution_count": 113,
   "id": "2e1c07ad-d632-4b80-8b47-1af3a10df6c7",
   "metadata": {},
   "outputs": [
    {
     "name": "stdout",
     "output_type": "stream",
     "text": [
      "Mean Reviews per Anime: 16.08763712560089\n",
      "Median Reviews per Anime: 3\n"
     ]
    },
    {
     "data": {
      "image/png": "[encoded data removed]",
      "text/plain": [
       "<Figure size 432x288 with 1 Axes>"
      ]
     },
     "metadata": {},
     "output_type": "display_data"
    }
   ],
   "source": [
    "p = sns.kdeplot(anime_counts)\n",
    "p.set(xlabel=\"# of Reviews\", ylabel=\"Density\", title=\"Density of Reviews per Anime\")\n",
    "print(f\"Mean Reviews per Anime: {sum(anime_counts) / len(anime_counts)}\")\n",
    "print(f\"Median Reviews per Anime: {sorted(anime_counts)[len(anime_counts)//2]}\")"
   ]
  },
  {
   "cell_type": "markdown",
   "id": "6af27fae-6fbe-412d-9e96-b0f384434bd4",
   "metadata": {},
   "source": [
    "## Distribution of Reviews by User"
   ]
  },
  {
   "cell_type": "code",
   "execution_count": 95,
   "id": "04fdd80c-e7d2-41ce-a2f4-24861947da39",
   "metadata": {},
   "outputs": [],
   "source": [
    "user_counts = Counter(reviews['profile']).values()"
   ]
  },
  {
   "cell_type": "code",
   "execution_count": 114,
   "id": "21868759-3209-4b31-b0b3-dd42b8e4217d",
   "metadata": {},
   "outputs": [
    {
     "name": "stdout",
     "output_type": "stream",
     "text": [
      "Mean Reviews per User: 2.7256760989871567\n",
      "Median Reviews per User: 1\n"
     ]
    },
    {
     "data": {
      "image/png": "[encoded data removed]",
      "text/plain": [
       "<Figure size 432x288 with 1 Axes>"
      ]
     },
     "metadata": {},
     "output_type": "display_data"
    }
   ],
   "source": [
    "p = sns.kdeplot(user_counts)\n",
    "p.set(xlabel=\"# of Reviews\", ylabel=\"Density\", title=\"Density of Reviews per User\")\n",
    "print(f\"Mean Reviews per User: {sum(user_counts) / len(user_counts)}\")\n",
    "print(f\"Median Reviews per User: {sorted(user_counts)[len(user_counts)//2]}\")"
   ]
  },
  {
   "cell_type": "markdown",
   "id": "9681e6f1-bd2d-4d6f-b8ab-a1cf43489b74",
   "metadata": {},
   "source": [
    "# New Anime Dataset (Make sure to run processing notebook first)"
   ]
  },
  {
   "cell_type": "code",
   "execution_count": 115,
   "id": "30165a78-ab93-4259-97dd-f9c43f12d9f9",
   "metadata": {},
   "outputs": [],
   "source": [
    "# TODO: insert here"
   ]
  },
  {
   "cell_type": "markdown",
   "id": "a0088c5c-c0ae-4fd6-90ea-90113fa4e520",
   "metadata": {},
   "source": [
    "# Miscellaneous"
   ]
  },
  {
   "cell_type": "markdown",
   "id": "28bb8166-b98e-4286-a46d-e735a31f056d",
   "metadata": {
    "tags": []
   },
   "source": [
    "## Movie Lens Formatting (Should copy the column names if using shelf implementations)"
   ]
  },
  {
   "cell_type": "code",
   "execution_count": null,
   "id": "55e4ee83-3070-4e59-886d-3618dd6148c5",
   "metadata": {},
   "outputs": [],
   "source": [
    "# Paths\n",
    "MOVIELENS_FOLDER = \"./data/ml-1m/\"\n",
    "MOVIELENS_RATINGS_FILE = \"ratings.dat\""
   ]
  },
  {
   "cell_type": "code",
   "execution_count": null,
   "id": "a7acedb9-d72c-4a0c-a58d-e17442bb5abc",
   "metadata": {},
   "outputs": [],
   "source": [
    "# UserID::MovieID::Rating::Timestamp\n",
    "df_ml = pd.read_table(\n",
    "    os.path.join(MOVIELENS_FOLDER, MOVIELENS_RATINGS_FILE),\n",
    "    sep=\"::\",\n",
    "    names=[\"user_id\", \"item_id\", \"rating\", \"timestamp\"],\n",
    "    engine=\"python\",\n",
    ")"
   ]
  },
  {
   "cell_type": "code",
   "execution_count": null,
   "id": "a291e51d-1691-4dd8-b266-7041c9b46ea7",
   "metadata": {},
   "outputs": [
    {
     "data": {
      "text/html": [
       "<div>\n",
       "<style scoped>\n",
       "    .dataframe tbody tr th:only-of-type {\n",
       "        vertical-align: middle;\n",
       "    }\n",
       "\n",
       "    .dataframe tbody tr th {\n",
       "        vertical-align: top;\n",
       "    }\n",
       "\n",
       "    .dataframe thead th {\n",
       "        text-align: right;\n",
       "    }\n",
       "</style>\n",
       "<table border=\"1\" class=\"dataframe\">\n",
       "  <thead>\n",
       "    <tr style=\"text-align: right;\">\n",
       "      <th></th>\n",
       "      <th>user_id</th>\n",
       "      <th>item_id</th>\n",
       "      <th>rating</th>\n",
       "      <th>timestamp</th>\n",
       "    </tr>\n",
       "  </thead>\n",
       "  <tbody>\n",
       "    <tr>\n",
       "      <th>0</th>\n",
       "      <td>1</td>\n",
       "      <td>1193</td>\n",
       "      <td>5</td>\n",
       "      <td>978300760</td>\n",
       "    </tr>\n",
       "    <tr>\n",
       "      <th>1</th>\n",
       "      <td>1</td>\n",
       "      <td>661</td>\n",
       "      <td>3</td>\n",
       "      <td>978302109</td>\n",
       "    </tr>\n",
       "    <tr>\n",
       "      <th>2</th>\n",
       "      <td>1</td>\n",
       "      <td>914</td>\n",
       "      <td>3</td>\n",
       "      <td>978301968</td>\n",
       "    </tr>\n",
       "    <tr>\n",
       "      <th>3</th>\n",
       "      <td>1</td>\n",
       "      <td>3408</td>\n",
       "      <td>4</td>\n",
       "      <td>978300275</td>\n",
       "    </tr>\n",
       "    <tr>\n",
       "      <th>4</th>\n",
       "      <td>1</td>\n",
       "      <td>2355</td>\n",
       "      <td>5</td>\n",
       "      <td>978824291</td>\n",
       "    </tr>\n",
       "  </tbody>\n",
       "</table>\n",
       "</div>"
      ],
      "text/plain": [
       "   user_id  item_id  rating  timestamp\n",
       "0        1     1193       5  978300760\n",
       "1        1      661       3  978302109\n",
       "2        1      914       3  978301968\n",
       "3        1     3408       4  978300275\n",
       "4        1     2355       5  978824291"
      ]
     },
     "execution_count": 70,
     "metadata": {},
     "output_type": "execute_result"
    }
   ],
   "source": [
    "df_ml.head()"
   ]
  }
 ],
 "metadata": {
  "kernelspec": {
   "display_name": "nlp",
   "language": "python",
   "name": "nlp"
  },
  "language_info": {
   "codemirror_mode": {
    "name": "ipython",
    "version": 3
   },
   "file_extension": ".py",
   "mimetype": "text/x-python",
   "name": "python",
   "nbconvert_exporter": "python",
   "pygments_lexer": "ipython3",
   "version": "3.9.7"
  }
 },
 "nbformat": 4,
 "nbformat_minor": 5
}
