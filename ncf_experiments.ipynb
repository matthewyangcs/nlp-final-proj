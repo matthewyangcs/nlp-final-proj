{
 "cells": [
  {
   "cell_type": "code",
   "execution_count": 4,
   "id": "bdd6afef",
   "metadata": {},
   "outputs": [],
   "source": [
    "import csv\n",
    "from collections import namedtuple\n",
    "\n",
    "anime_data = []\n",
    "with open(\"data/processed/processed_animes.csv\", encoding=\"utf8\", newline=\"\") as f:\n",
    "    reader = csv.reader(f, delimiter=\",\", quotechar='\"')\n",
    "    fields = next(reader)\n",
    "    AnimeInfo = namedtuple(\"AnimeInfo\", fields)\n",
    "    for item_id, title, synopsis, genre, score, tokenized_synopsis in reader:\n",
    "        item_id = int(item_id)\n",
    "        genre = eval(genre)\n",
    "        score = float(score)\n",
    "        tokenized_synopsis = eval(tokenized_synopsis)\n",
    "        anime_data.append(AnimeInfo(item_id, title, synopsis, genre, score, tokenized_synopsis))\n",
    "\n",
    "review_data = []\n",
    "with open(\"data/processed/processed_reviews.csv\", encoding=\"utf8\", newline=\"\") as f:\n",
    "    reader = csv.reader(f, delimiter=\",\", quotechar='\"')\n",
    "    fields = next(reader)\n",
    "    ReviewInfo = namedtuple(\"ReviewInfo\", fields)\n",
    "    for review_id, user_id, item_id, text, rating, tokenized_text in reader:\n",
    "        review_id = int(review_id)\n",
    "        user_id = int(user_id)\n",
    "        item_id = int(item_id)\n",
    "        rating = int(rating)\n",
    "        tokenized_text = eval(tokenized_text)\n",
    "        review_data.append(ReviewInfo(review_id, user_id, item_id - 1, text, rating, tokenized_text))"
   ]
  },
  {
   "cell_type": "code",
   "execution_count": 23,
   "id": "aeadb8dd",
   "metadata": {
    "scrolled": true
   },
   "outputs": [
    {
     "name": "stdout",
     "output_type": "stream",
     "text": [
      "# of anime: 2258\n",
      "# of users: 1529\n"
     ]
    }
   ],
   "source": [
    "print(\"# of anime:\", len(set(a.item_id for a in anime_data)))\n",
    "print(\"# of users:\", len(set(r.user_id for r in review_data)))"
   ]
  },
  {
   "cell_type": "code",
   "execution_count": 24,
   "id": "3a9aaed9",
   "metadata": {},
   "outputs": [],
   "source": [
    "user_to_review_idxs = {r.user_id : [] for r in review_data}\n",
    "for i,r in enumerate(review_data):\n",
    "    user_to_review_idxs[r.user_id].append(i)"
   ]
  },
  {
   "cell_type": "code",
   "execution_count": 25,
   "id": "1e4c4d0f",
   "metadata": {},
   "outputs": [
    {
     "name": "stdout",
     "output_type": "stream",
     "text": [
      "34083 1529\n"
     ]
    }
   ],
   "source": [
    "# do hold-one-out for evaluation\n",
    "\n",
    "import random\n",
    "\n",
    "train_split = []\n",
    "test_split = []\n",
    "\n",
    "for _, reviews in user_to_review_idxs.items():\n",
    "    hold_out = random.choice(reviews)\n",
    "    test_split.append(hold_out)\n",
    "    for ridx in reviews:\n",
    "        if ridx != hold_out:\n",
    "            train_split.append(ridx)\n",
    "\n",
    "print(len(train_split), len(test_split))"
   ]
  },
  {
   "cell_type": "code",
   "execution_count": 8,
   "id": "ced61b4a",
   "metadata": {},
   "outputs": [],
   "source": [
    "import torch\n",
    "import torch.nn as nn\n",
    "import torch.optim as optim\n",
    "from tqdm import tqdm"
   ]
  },
  {
   "cell_type": "code",
   "execution_count": 13,
   "id": "52d53e3a",
   "metadata": {},
   "outputs": [],
   "source": [
    "class SmallNCF(nn.Module):\n",
    "    def __init__(self, add_anime_embedding=False, add_user_embedding=False):\n",
    "        super(SmallNCF, self).__init__()\n",
    "        self.add_anime_embedding = add_anime_embedding\n",
    "        self.add_user_embedding = add_user_embedding\n",
    "        \n",
    "        user_emb_dim = 500\n",
    "        anime_emb_dim = 500\n",
    "        \n",
    "        if add_anime_embedding:\n",
    "            self.anime_embedding = nn.Embedding(2258, anime_emb_dim)\n",
    "        \n",
    "        if add_user_embedding:\n",
    "            self.user_embedding = nn.Embedding(1529, user_emb_dim)\n",
    "        \n",
    "        self.fc1 = nn.Linear(user_emb_dim + anime_emb_dim, 50)\n",
    "        self.fc2 = nn.Linear(50, 1)\n",
    "        self.relu = nn.LeakyReLU(0.05)\n",
    "        self.dropout = nn.Dropout(0.0)\n",
    "    \n",
    "    def forward(self, user, anime):\n",
    "        # second dim only present if not adding embeddings\n",
    "        # user: (batch_size, [user_emb_dim])\n",
    "        # anime: (batch_size, [anime_emb_dim])\n",
    "        \n",
    "        if self.add_anime_embedding:\n",
    "            anime = self.anime_embedding(anime)\n",
    "        \n",
    "        if self.add_user_embedding:\n",
    "            user = self.user_embedding(user)\n",
    "        \n",
    "        x = torch.cat((user, anime), dim=1)\n",
    "        x = self.fc1(x)\n",
    "        x = self.dropout(x)\n",
    "        x = self.relu(x)\n",
    "        x = self.fc2(x)\n",
    "        return x"
   ]
  },
  {
   "cell_type": "code",
   "execution_count": 14,
   "id": "e7e97931",
   "metadata": {},
   "outputs": [],
   "source": [
    "class NCF(nn.Module):\n",
    "    def __init__(self, add_anime_embedding=False, add_user_embedding=False):\n",
    "        super(NCF, self).__init__()\n",
    "        self.add_anime_embedding = add_anime_embedding\n",
    "        self.add_user_embedding = add_user_embedding\n",
    "        \n",
    "        user_emb_dim = 768\n",
    "        anime_emb_dim = 768\n",
    "        \n",
    "        if add_anime_embedding:\n",
    "            self.anime_embedding = nn.Embedding(2258, anime_emb_dim)\n",
    "        \n",
    "        if add_user_embedding:\n",
    "            self.user_embedding = nn.Embedding(1529, user_emb_dim)\n",
    "        \n",
    "        self.fc1 = nn.Linear(user_emb_dim + anime_emb_dim, 768)\n",
    "        self.fc2 = nn.Linear(768, 384)\n",
    "        self.fc3 = nn.Linear(384, 96)\n",
    "        self.fc4 = nn.Linear(96, 1)\n",
    "        self.relu = nn.LeakyReLU(0.05)\n",
    "        self.dropout = nn.Dropout(0.3)\n",
    "    \n",
    "    def forward(self, user, anime):\n",
    "        # second dim only present if not adding embeddings\n",
    "        # user: (batch_size, [user_emb_dim])\n",
    "        # anime: (batch_size, [anime_emb_dim])\n",
    "        \n",
    "        if self.add_anime_embedding:\n",
    "            anime = self.anime_embedding(anime)\n",
    "        \n",
    "        if self.add_user_embedding:\n",
    "            user = self.user_embedding(user)\n",
    "        \n",
    "        x = torch.cat((user, anime), dim=1)\n",
    "        x = self.fc1(x)\n",
    "        x = self.dropout(x)\n",
    "        x = self.relu(x)\n",
    "        x = self.fc2(x)\n",
    "        x = self.dropout(x)\n",
    "        x = self.relu(x)\n",
    "        x = self.fc3(x)\n",
    "        x = self.dropout(x)\n",
    "        x = self.relu(x)\n",
    "        x = self.fc4(x)\n",
    "        return x"
   ]
  },
  {
   "cell_type": "code",
   "execution_count": 28,
   "id": "78d85c1b",
   "metadata": {},
   "outputs": [
    {
     "name": "stdout",
     "output_type": "stream",
     "text": [
      "Epoch 1\n",
      "train loss 7.81\n",
      "test loss 5.38\n",
      "Epoch 2\n",
      "train loss 5.20\n",
      "test loss 5.24\n",
      "Epoch 3\n",
      "train loss 5.07\n",
      "test loss 5.52\n",
      "Epoch 4\n",
      "train loss 5.03\n",
      "test loss 5.08\n",
      "Epoch 5\n",
      "train loss 5.02\n",
      "test loss 5.07\n",
      "Epoch 6\n",
      "train loss 4.99\n",
      "test loss 5.06\n",
      "Epoch 7\n",
      "train loss 4.99\n",
      "test loss 5.29\n",
      "Epoch 8\n",
      "train loss 4.95\n",
      "test loss 5.04\n",
      "Epoch 9\n",
      "train loss 4.93\n",
      "test loss 5.12\n",
      "Epoch 10\n",
      "train loss 4.94\n",
      "test loss 5.07\n",
      "Epoch 11\n",
      "train loss 4.92\n",
      "test loss 4.96\n",
      "Epoch 12\n",
      "train loss 4.94\n",
      "test loss 5.02\n",
      "Epoch 13\n",
      "train loss 4.92\n",
      "test loss 5.11\n",
      "Epoch 14\n",
      "train loss 4.89\n",
      "test loss 4.93\n",
      "Epoch 15\n",
      "train loss 4.91\n",
      "test loss 5.00\n",
      "Epoch 16\n",
      "train loss 4.89\n",
      "test loss 4.94\n",
      "Epoch 17\n",
      "train loss 4.88\n",
      "test loss 4.93\n",
      "Epoch 18\n",
      "train loss 4.91\n",
      "test loss 4.99\n",
      "Epoch 19\n",
      "train loss 4.88\n",
      "test loss 4.88\n",
      "Epoch 20\n",
      "train loss 4.88\n",
      "test loss 5.03\n"
     ]
    }
   ],
   "source": [
    "## First try basic NCF\n",
    "\n",
    "model = SmallNCF(True, True).cuda()\n",
    "opt = optim.Adam(model.parameters(), lr=0.003)\n",
    "\n",
    "for epoch in range(20):\n",
    "    print(f\"Epoch {epoch+1}\")\n",
    "    \n",
    "    model.train()\n",
    "    \n",
    "    random.shuffle(train_split)\n",
    "    \n",
    "    total_epoch_loss = 0\n",
    "    minibatch_count = 0\n",
    "    \n",
    "    for b_idx in range(0, 64*(len(train_split)//64), 64):\n",
    "        opt.zero_grad()\n",
    "        users = torch.LongTensor([review_data[train_split[i]].user_id for i in range(b_idx, b_idx + 64)]).cuda()\n",
    "        anime = torch.LongTensor([review_data[train_split[i]].item_id for i in range(b_idx, b_idx + 64)]).cuda()\n",
    "        ratings = torch.FloatTensor([review_data[train_split[i]].rating for i in range(b_idx, b_idx + 64)]).cuda()\n",
    "        \n",
    "        pred = model(users, anime)\n",
    "        loss = ((ratings - pred)**2).mean()\n",
    "        loss.backward()\n",
    "        opt.step()\n",
    "        \n",
    "        total_epoch_loss += loss.item()\n",
    "        minibatch_count += 1\n",
    "    \n",
    "    with torch.no_grad():\n",
    "        model.eval()\n",
    "        test_users = torch.LongTensor([review_data[idx].user_id for idx in test_split]).cuda()\n",
    "        test_anime = torch.LongTensor([review_data[idx].item_id for idx in test_split]).cuda()\n",
    "        test_ratings = torch.FloatTensor([review_data[idx].rating for idx in test_split]).cuda()\n",
    "        pred = model(test_users, test_anime)\n",
    "        test_loss = ((test_ratings - pred) ** 2).mean().item()\n",
    "        \n",
    "    print(f\"train loss {total_epoch_loss/minibatch_count:.2f}\")\n",
    "    print(f\"test loss {test_loss:.2f}\")"
   ]
  },
  {
   "cell_type": "code",
   "execution_count": 26,
   "id": "4de18d98",
   "metadata": {},
   "outputs": [
    {
     "name": "stdout",
     "output_type": "stream",
     "text": [
      "3.713802968624789\n"
     ]
    }
   ],
   "source": [
    "user_totals = {r.user_id : [0, 0] for r in review_data}\n",
    "\n",
    "for i in train_split:\n",
    "    user_totals[review_data[i].user_id][0] += review_data[i].rating\n",
    "    user_totals[review_data[i].user_id][1] += 1\n",
    "\n",
    "user_avgs = {k : (a / b) for k,(a,b) in user_totals.items()}\n",
    "\n",
    "r = 0\n",
    "\n",
    "for j in test_split:\n",
    "    pred = user_avgs[review_data[j].user_id]\n",
    "    r += (pred - review_data[j].rating)**2\n",
    "\n",
    "print(r / len(test_split))"
   ]
  },
  {
   "cell_type": "code",
   "execution_count": 27,
   "id": "b9b35eda",
   "metadata": {},
   "outputs": [
    {
     "name": "stdout",
     "output_type": "stream",
     "text": [
      "4.242937017658601\n"
     ]
    }
   ],
   "source": [
    "anime_avgs = {a.item_id : a.score for a in anime_data}\n",
    "\n",
    "r = 0\n",
    "for j in test_split:\n",
    "    pred = anime_avgs[review_data[j].item_id]\n",
    "    r += (pred - review_data[j].rating)**2\n",
    "\n",
    "print(r / len(test_split))"
   ]
  },
  {
   "cell_type": "code",
   "execution_count": null,
   "id": "99fe88dc",
   "metadata": {},
   "outputs": [],
   "source": []
  }
 ],
 "metadata": {
  "kernelspec": {
   "display_name": "Python 3 (ipykernel)",
   "language": "python",
   "name": "python3"
  },
  "language_info": {
   "codemirror_mode": {
    "name": "ipython",
    "version": 3
   },
   "file_extension": ".py",
   "mimetype": "text/x-python",
   "name": "python",
   "nbconvert_exporter": "python",
   "pygments_lexer": "ipython3",
   "version": "3.8.2"
  }
 },
 "nbformat": 4,
 "nbformat_minor": 5
}
